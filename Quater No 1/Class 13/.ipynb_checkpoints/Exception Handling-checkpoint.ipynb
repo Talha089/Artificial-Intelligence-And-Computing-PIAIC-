{
 "cells": [
  {
   "cell_type": "code",
   "execution_count": 5,
   "metadata": {},
   "outputs": [
    {
     "name": "stdout",
     "output_type": "stream",
     "text": [
      "Pakistan\n",
      "Pakistan\n",
      "Pakistan\n",
      "Pakistan\n"
     ]
    },
    {
     "ename": "ZeroDivisionError",
     "evalue": "division by zero",
     "output_type": "error",
     "traceback": [
      "\u001b[0;31m---------------------------------------------------------------------------\u001b[0m",
      "\u001b[0;31mZeroDivisionError\u001b[0m                         Traceback (most recent call last)",
      "\u001b[0;32m<ipython-input-5-ef0915ea86b1>\u001b[0m in \u001b[0;36m<module>\u001b[0;34m\u001b[0m\n\u001b[1;32m      4\u001b[0m \u001b[0mprint\u001b[0m\u001b[0;34m(\u001b[0m\u001b[0;34m\"Pakistan\"\u001b[0m\u001b[0;34m)\u001b[0m\u001b[0;34m\u001b[0m\u001b[0;34m\u001b[0m\u001b[0m\n\u001b[1;32m      5\u001b[0m \u001b[0;34m\u001b[0m\u001b[0m\n\u001b[0;32m----> 6\u001b[0;31m \u001b[0mprint\u001b[0m\u001b[0;34m(\u001b[0m\u001b[0;36m7\u001b[0m\u001b[0;34m/\u001b[0m\u001b[0;36m0\u001b[0m\u001b[0;34m)\u001b[0m\u001b[0;34m\u001b[0m\u001b[0;34m\u001b[0m\u001b[0m\n\u001b[0m\u001b[1;32m      7\u001b[0m \u001b[0;34m\u001b[0m\u001b[0m\n\u001b[1;32m      8\u001b[0m \u001b[0mprint\u001b[0m\u001b[0;34m(\u001b[0m\u001b[0;34m\"Pakistan\"\u001b[0m\u001b[0;34m)\u001b[0m\u001b[0;34m\u001b[0m\u001b[0;34m\u001b[0m\u001b[0m\n",
      "\u001b[0;31mZeroDivisionError\u001b[0m: division by zero"
     ]
    }
   ],
   "source": [
    "print(\"Pakistan\")\n",
    "print(\"Pakistan\")\n",
    "print(\"Pakistan\")\n",
    "print(\"Pakistan\")\n",
    "\n",
    "print(7/0)\n",
    "\n",
    "print(\"Pakistan\")\n",
    "print(\"Pakistan\")\n",
    "print(\"Pakistan\")\n",
    "print(\"Pakistan\")"
   ]
  },
  {
   "cell_type": "code",
   "execution_count": 7,
   "metadata": {},
   "outputs": [
    {
     "ename": "IndexError",
     "evalue": "list index out of range",
     "output_type": "error",
     "traceback": [
      "\u001b[0;31m---------------------------------------------------------------------------\u001b[0m",
      "\u001b[0;31mIndexError\u001b[0m                                Traceback (most recent call last)",
      "\u001b[0;32m<ipython-input-7-25c60e645f7f>\u001b[0m in \u001b[0;36m<module>\u001b[0;34m\u001b[0m\n\u001b[1;32m      1\u001b[0m \u001b[0ma\u001b[0m \u001b[0;34m=\u001b[0m \u001b[0;34m[\u001b[0m\u001b[0;36m2\u001b[0m\u001b[0;34m,\u001b[0m\u001b[0;36m3\u001b[0m\u001b[0;34m]\u001b[0m\u001b[0;34m\u001b[0m\u001b[0;34m\u001b[0m\u001b[0m\n\u001b[0;32m----> 2\u001b[0;31m \u001b[0ma\u001b[0m\u001b[0;34m[\u001b[0m\u001b[0;36m7\u001b[0m\u001b[0;34m]\u001b[0m\u001b[0;34m\u001b[0m\u001b[0;34m\u001b[0m\u001b[0m\n\u001b[0m",
      "\u001b[0;31mIndexError\u001b[0m: list index out of range"
     ]
    }
   ],
   "source": [
    "a = [2,3]\n",
    "a[7]"
   ]
  },
  {
   "cell_type": "code",
   "execution_count": null,
   "metadata": {},
   "outputs": [],
   "source": [
    "dict = {'a':}"
   ]
  },
  {
   "cell_type": "code",
   "execution_count": 8,
   "metadata": {},
   "outputs": [
    {
     "ename": "FileNotFoundError",
     "evalue": "[Errno 2] No such file or directory: 'abc.txt'",
     "output_type": "error",
     "traceback": [
      "\u001b[0;31m---------------------------------------------------------------------------\u001b[0m",
      "\u001b[0;31mFileNotFoundError\u001b[0m                         Traceback (most recent call last)",
      "\u001b[0;32m<ipython-input-8-befa419cc814>\u001b[0m in \u001b[0;36m<module>\u001b[0;34m\u001b[0m\n\u001b[0;32m----> 1\u001b[0;31m \u001b[0mopen\u001b[0m\u001b[0;34m(\u001b[0m\u001b[0;34m\"abc.txt\"\u001b[0m\u001b[0;34m)\u001b[0m\u001b[0;34m\u001b[0m\u001b[0;34m\u001b[0m\u001b[0m\n\u001b[0m",
      "\u001b[0;31mFileNotFoundError\u001b[0m: [Errno 2] No such file or directory: 'abc.txt'"
     ]
    }
   ],
   "source": [
    "open(\"abc.txt\")"
   ]
  },
  {
   "cell_type": "markdown",
   "metadata": {},
   "source": [
    "# Exception Handling"
   ]
  },
  {
   "cell_type": "code",
   "execution_count": 9,
   "metadata": {},
   "outputs": [
    {
     "ename": "SyntaxError",
     "evalue": "invalid syntax (<ipython-input-9-123742965f69>, line 2)",
     "output_type": "error",
     "traceback": [
      "\u001b[0;36m  File \u001b[0;32m\"<ipython-input-9-123742965f69>\"\u001b[0;36m, line \u001b[0;32m2\u001b[0m\n\u001b[0;31m    your code\u001b[0m\n\u001b[0m            ^\u001b[0m\n\u001b[0;31mSyntaxError\u001b[0m\u001b[0;31m:\u001b[0m invalid syntax\n"
     ]
    }
   ],
   "source": [
    "try:\n",
    "    your code\n",
    "except(err1.Class, err2.Class,...):\n",
    "    message show against your errClass\n",
    "else:\n",
    "    message show if exception did not raise\n",
    "finally:\n",
    "    always run this block"
   ]
  },
  {
   "cell_type": "code",
   "execution_count": 11,
   "metadata": {},
   "outputs": [
    {
     "name": "stdout",
     "output_type": "stream",
     "text": [
      "Uploading ......\n",
      "You cannot Divide with Zero 0\n"
     ]
    }
   ],
   "source": [
    "print('Uploading ......')\n",
    "try:\n",
    "    print(6/0)\n",
    "except(ZeroDivisionError):\n",
    "    print(\"You cannot Divide with Zero 0\")"
   ]
  },
  {
   "cell_type": "code",
   "execution_count": 12,
   "metadata": {},
   "outputs": [
    {
     "name": "stdout",
     "output_type": "stream",
     "text": [
      "Uploading ......\n",
      "You are exceeding with the limit\n"
     ]
    }
   ],
   "source": [
    "print('Uploading ......')\n",
    "try:\n",
    "    a=[2,3]\n",
    "    print(a[7])\n",
    "except(IndexError):\n",
    "    print(\"You are exceeding with the limit\")"
   ]
  },
  {
   "cell_type": "code",
   "execution_count": 13,
   "metadata": {},
   "outputs": [
    {
     "name": "stdout",
     "output_type": "stream",
     "text": [
      "Uploading ......\n",
      "Unable to find the file\n"
     ]
    }
   ],
   "source": [
    "print('Uploading ......')\n",
    "try:\n",
    "   open(\"ttt.txt\")\n",
    "except(FileNotFoundError):\n",
    "    print(\"Unable to find the file\")"
   ]
  },
  {
   "cell_type": "code",
   "execution_count": 15,
   "metadata": {},
   "outputs": [
    {
     "name": "stdout",
     "output_type": "stream",
     "text": [
      "Uploading ......\n",
      "Exception Catch\n"
     ]
    }
   ],
   "source": [
    "print('Uploading ......')\n",
    "try:\n",
    "    open(\"tct.txt\")\n",
    "    a=[2,3]\n",
    "    print(a[7])\n",
    "except(IndexError,FileNotFoundError):\n",
    "    print(\"Exception Catch\")"
   ]
  },
  {
   "cell_type": "code",
   "execution_count": 16,
   "metadata": {},
   "outputs": [
    {
     "name": "stdout",
     "output_type": "stream",
     "text": [
      "Uploading ......\n",
      "Unable to find the file\n",
      "Exception Catch, you are exceeded the limit\n"
     ]
    }
   ],
   "source": [
    "print('Uploading ......')\n",
    "try:\n",
    "    open(\"tct.txt\")\n",
    "except FileNotFoundError:\n",
    "    print(\"Unable to find the file\")\n",
    "try:\n",
    "    a=[2,3]\n",
    "    print(a[7])\n",
    "except IndexError:\n",
    "    print(\"Exception Catch, you are exceeded the limit\")"
   ]
  },
  {
   "cell_type": "code",
   "execution_count": 17,
   "metadata": {},
   "outputs": [
    {
     "name": "stdout",
     "output_type": "stream",
     "text": [
      "We are trying too solve some problems\n"
     ]
    }
   ],
   "source": [
    "try:\n",
    "    open(\"tester.txt\")\n",
    "    a=[2,3]\n",
    "    print(a[7])\n",
    "    print(6/0)\n",
    "except:\n",
    "    print(\"We are trying too solve some problems\")"
   ]
  },
  {
   "cell_type": "code",
   "execution_count": 19,
   "metadata": {},
   "outputs": [
    {
     "name": "stdout",
     "output_type": "stream",
     "text": [
      "Sorry Scientist [Errno 2] No such file or directory: 'fdsf.txt'\n"
     ]
    }
   ],
   "source": [
    "try:\n",
    "    open(\"fdsf.txt\")\n",
    "    a = [2,3]\n",
    "    print(a[7])\n",
    "    print(6/0)\n",
    "except Exception as a:\n",
    "    print(\"Sorry Scientist\",a)"
   ]
  },
  {
   "cell_type": "code",
   "execution_count": 20,
   "metadata": {},
   "outputs": [
    {
     "name": "stdout",
     "output_type": "stream",
     "text": [
      "division by zero\n"
     ]
    }
   ],
   "source": [
    "try:\n",
    "    print(7/0)\n",
    "except Exception as a:\n",
    "    print(a)\n",
    "else:\n",
    "    print(\"Your Code is running without any error\")"
   ]
  },
  {
   "cell_type": "code",
   "execution_count": 22,
   "metadata": {},
   "outputs": [
    {
     "name": "stdout",
     "output_type": "stream",
     "text": [
      "0.875\n",
      "Your Code is running without any error, it will only run when try is successful\n"
     ]
    }
   ],
   "source": [
    "try:\n",
    "    print(7/8)\n",
    "except Exception as a:\n",
    "    print(a)\n",
    "else:\n",
    "    print(\"Your Code is running without any error, it will only run when try is successful\")"
   ]
  },
  {
   "cell_type": "code",
   "execution_count": 23,
   "metadata": {},
   "outputs": [
    {
     "name": "stdout",
     "output_type": "stream",
     "text": [
      "0.875\n",
      "Your Code is running without any error\n",
      "It Will Definitely Run on try and except\n"
     ]
    }
   ],
   "source": [
    "try:\n",
    "    print(7/8)\n",
    "except Exception as a:\n",
    "    print(a)\n",
    "else:\n",
    "    print(\"Your Code is running without any error\")\n",
    "finally:\n",
    "    print(\"It Will Definitely Run on try and except\")"
   ]
  },
  {
   "cell_type": "code",
   "execution_count": 24,
   "metadata": {},
   "outputs": [
    {
     "data": {
      "text/plain": [
       "'linux'"
      ]
     },
     "execution_count": 24,
     "metadata": {},
     "output_type": "execute_result"
    }
   ],
   "source": [
    "import sys\n",
    "sys.platform"
   ]
  },
  {
   "cell_type": "markdown",
   "metadata": {},
   "source": [
    "# Raise"
   ]
  },
  {
   "cell_type": "code",
   "execution_count": 25,
   "metadata": {},
   "outputs": [
    {
     "ename": "SyntaxError",
     "evalue": "invalid syntax (<ipython-input-25-7d8e8453ce26>, line 4)",
     "output_type": "error",
     "traceback": [
      "\u001b[0;36m  File \u001b[0;32m\"<ipython-input-25-7d8e8453ce26>\"\u001b[0;36m, line \u001b[0;32m4\u001b[0m\n\u001b[0;31m    raise: \"Age Range 18 to 80\"\u001b[0m\n\u001b[0m         ^\u001b[0m\n\u001b[0;31mSyntaxError\u001b[0m\u001b[0;31m:\u001b[0m invalid syntax\n"
     ]
    }
   ],
   "source": [
    "class Student():\n",
    "    def __init__(self,name,age):\n",
    "        if (age > 17 and age<=80):\n",
    "            raise: \"Age Range 18 to 80\"\n",
    "        self.age = age\n",
    "            "
   ]
  },
  {
   "cell_type": "markdown",
   "metadata": {},
   "source": [
    "# Assert"
   ]
  },
  {
   "cell_type": "code",
   "execution_count": null,
   "metadata": {},
   "outputs": [],
   "source": [
    "class Student():\n",
    "    def __init__(self,age):\n",
    "        if (age > 17 and age<=80):\n",
    "            assert: \"Age Range 18 to 80\"\n",
    "obj\n",
    "        "
   ]
  }
 ],
 "metadata": {
  "kernelspec": {
   "display_name": "Python 3",
   "language": "python",
   "name": "python3"
  },
  "language_info": {
   "codemirror_mode": {
    "name": "ipython",
    "version": 3
   },
   "file_extension": ".py",
   "mimetype": "text/x-python",
   "name": "python",
   "nbconvert_exporter": "python",
   "pygments_lexer": "ipython3",
   "version": "3.7.5"
  }
 },
 "nbformat": 4,
 "nbformat_minor": 2
}
