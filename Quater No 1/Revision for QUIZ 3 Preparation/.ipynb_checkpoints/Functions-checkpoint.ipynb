{
 "cells": [
  {
   "cell_type": "markdown",
   "metadata": {},
   "source": [
    "## Functions\n",
    "* Pre define functions\n",
    "* User Define Functions\n",
    "* Recursive Functions\n",
    "* Lambda Functions\n",
    "* Required Arguments\n",
    "* Optional Arguments\n",
    "* Return\n",
    "* Non Return\n",
    "* Defualt Arguments\n",
    "* postional Arguments\n",
    "* KeyWord Arguments\n",
    "* Argument with List\n",
    "* Argument with Dictionary\n",
    "* pre defineFunctions\n",
    "* User defineFunctions"
   ]
  },
  {
   "cell_type": "markdown",
   "metadata": {},
   "source": [
    "# Pre define functions"
   ]
  },
  {
   "cell_type": "code",
   "execution_count": 1,
   "metadata": {},
   "outputs": [
    {
     "name": "stdout",
     "output_type": "stream",
     "text": [
      "Talha\n",
      "5\n",
      "18\n",
      "140564236217176\n",
      "<class 'int'>\n"
     ]
    }
   ],
   "source": [
    "print(\"Talha\")\n",
    "print(len(\"Talha\"))\n",
    "print(len(\"Talha Javaid MAlik\"))\n",
    "print(id(\"Talha\"))\n",
    "print(type(11))"
   ]
  },
  {
   "cell_type": "markdown",
   "metadata": {},
   "source": [
    "# User Defined Functions"
   ]
  },
  {
   "cell_type": "code",
   "execution_count": 2,
   "metadata": {},
   "outputs": [
    {
     "name": "stdout",
     "output_type": "stream",
     "text": [
      "Pakistan Zindabad\n",
      "We are Pakistani\n",
      "We love peace\n"
     ]
    }
   ],
   "source": [
    "print(\"Pakistan Zindabad\")\n",
    "print(\"We are Pakistani\")\n",
    "print(\"We love peace\")"
   ]
  },
  {
   "cell_type": "code",
   "execution_count": 5,
   "metadata": {},
   "outputs": [
    {
     "name": "stdout",
     "output_type": "stream",
     "text": [
      "Pakistan Zindabad\n",
      "We are Pakistani\n",
      "We love peace \n",
      "\n",
      "Pakistan Zindabad\n",
      "We are Pakistani\n",
      "We love peace \n",
      "\n",
      "Pakistan Zindabad\n",
      "We are Pakistani\n",
      "We love peace \n",
      "\n"
     ]
    }
   ],
   "source": [
    "def abc(): # function Dec\n",
    "    print(\"Pakistan Zindabad\") # Function Body statement 1\n",
    "    print(\"We are Pakistani\") # statement 1\n",
    "    print(\"We love peace \\n\")\n",
    "    \n",
    "# default Function\n",
    "abc() # Function Calling\n",
    "abc() # Function Calling\n",
    "abc() # Function Calling"
   ]
  },
  {
   "cell_type": "code",
   "execution_count": 6,
   "metadata": {},
   "outputs": [
    {
     "name": "stdout",
     "output_type": "stream",
     "text": [
      "Pakistan Zindabad\n",
      "We are Pakistani\n",
      "We love peace \n",
      "\n",
      "aaa\n",
      "bbb\n",
      "Pakistan Zindabad\n",
      "We are Pakistani\n",
      "We love peace \n",
      "\n"
     ]
    }
   ],
   "source": [
    "\n",
    "abc()\n",
    "print('aaa')\n",
    "print('bbb')\n",
    "abc()"
   ]
  },
  {
   "cell_type": "markdown",
   "metadata": {},
   "source": [
    "# Required Arguments"
   ]
  },
  {
   "cell_type": "code",
   "execution_count": 7,
   "metadata": {},
   "outputs": [
    {
     "name": "stdout",
     "output_type": "stream",
     "text": [
      "\n",
      "    PIAIC ISLAMABAD\n",
      "    id : 1\n",
      "    Name : Talha\n",
      "    Father's Name: Javaid\n",
      "    course : A.I \n",
      "    timing : 9 to 12\n",
      "\n",
      "    PIAIC ISLAMABAD\n",
      "    id : 2\n",
      "    Name : Ali\n",
      "    Father's Name: Hamza\n",
      "    course : IOT \n",
      "    timing : 3:30 to 6:30\n"
     ]
    }
   ],
   "source": [
    "def id_card(sid, sname, fname, course, timing):\n",
    "    text = '''\n",
    "    PIAIC ISLAMABAD\n",
    "    id : {}\n",
    "    Name : {}\n",
    "    Father's Name: {}\n",
    "    course : {} \n",
    "    timing : {}'''.format(sid,sname,fname,course,timing)\n",
    "    print(text)\n",
    "\n",
    "id_card(1, \"Talha\", \"Javaid\", \"A.I\", \"9 to 12\")\n",
    "id_card(2, \"Ali\", \"Hamza\", \"IOT\", \"3:30 to 6:30\")"
   ]
  },
  {
   "cell_type": "code",
   "execution_count": 12,
   "metadata": {},
   "outputs": [
    {
     "name": "stdout",
     "output_type": "stream",
     "text": [
      "\n",
      "    PIAIC ISLAMABAD\n",
      "    id : 1\n",
      "    Name : Qasim\n",
      "    Father's Name: Aslam\n",
      "    course : A.I \n",
      "    timing : 9 to 12\n",
      "\n",
      "    PIAIC ISLAMABAD\n",
      "    id : 2\n",
      "    Name : Hamza\n",
      "    Father's Name: Khalid\n",
      "    course : Cloud \n",
      "    timing : 12:15 to 3:15\n",
      "\n",
      "    PIAIC ISLAMABAD\n",
      "    id : 3\n",
      "    Name : Rauf\n",
      "    Father's Name: Hussain\n",
      "    course : Quantum Computing \n",
      "    timing : 12AM\n"
     ]
    }
   ],
   "source": [
    "data =[[1,\"Qasim\",\"Aslam\",\"A.I\",\"9 to 12\"],\n",
    "      [2,\"Hamza\",\"Khalid\",\"Cloud\",\"12:15 to 3:15\"],\n",
    "      [3,\"Rauf\",\"Hussain\",\"Quantum Computing\",\"12AM\"]]\n",
    "\n",
    "for v in data:\n",
    "    id_card(*v)"
   ]
  },
  {
   "cell_type": "code",
   "execution_count": 13,
   "metadata": {},
   "outputs": [
    {
     "ename": "TypeError",
     "evalue": "id_card() missing 3 required positional arguments: 'fname', 'course', and 'timing'",
     "output_type": "error",
     "traceback": [
      "\u001b[0;31m---------------------------------------------------------------------------\u001b[0m",
      "\u001b[0;31mTypeError\u001b[0m                                 Traceback (most recent call last)",
      "\u001b[0;32m<ipython-input-13-b3197eaaaf6e>\u001b[0m in \u001b[0;36m<module>\u001b[0;34m\u001b[0m\n\u001b[0;32m----> 1\u001b[0;31m \u001b[0mid_card\u001b[0m\u001b[0;34m(\u001b[0m\u001b[0;36m2\u001b[0m\u001b[0;34m,\u001b[0m\u001b[0;34m\"Talha\"\u001b[0m\u001b[0;34m)\u001b[0m\u001b[0;34m\u001b[0m\u001b[0;34m\u001b[0m\u001b[0m\n\u001b[0m",
      "\u001b[0;31mTypeError\u001b[0m: id_card() missing 3 required positional arguments: 'fname', 'course', and 'timing'"
     ]
    }
   ],
   "source": [
    "id_card(2,\"Talha\")"
   ]
  },
  {
   "cell_type": "markdown",
   "metadata": {},
   "source": [
    "## Optional Arguments"
   ]
  },
  {
   "cell_type": "code",
   "execution_count": 20,
   "metadata": {},
   "outputs": [
    {
     "name": "stdout",
     "output_type": "stream",
     "text": [
      "5 0 0\n",
      "5\n"
     ]
    }
   ],
   "source": [
    "def abc(x, y=0, z=0):\n",
    "    print(x,y,z)\n",
    "    print(x+y+z)\n",
    "    \n",
    "abc(5)"
   ]
  },
  {
   "cell_type": "code",
   "execution_count": 15,
   "metadata": {},
   "outputs": [
    {
     "name": "stdout",
     "output_type": "stream",
     "text": [
      "5 7 0\n",
      "12\n"
     ]
    }
   ],
   "source": [
    "abc(5,7)"
   ]
  },
  {
   "cell_type": "code",
   "execution_count": 16,
   "metadata": {},
   "outputs": [
    {
     "name": "stdout",
     "output_type": "stream",
     "text": [
      "1 2 3\n",
      "6\n"
     ]
    }
   ],
   "source": [
    "abc(1,2,3)"
   ]
  },
  {
   "cell_type": "code",
   "execution_count": 17,
   "metadata": {},
   "outputs": [
    {
     "ename": "TypeError",
     "evalue": "abc() missing 1 required positional argument: 'x'",
     "output_type": "error",
     "traceback": [
      "\u001b[0;31m---------------------------------------------------------------------------\u001b[0m",
      "\u001b[0;31mTypeError\u001b[0m                                 Traceback (most recent call last)",
      "\u001b[0;32m<ipython-input-17-79c8afb7007d>\u001b[0m in \u001b[0;36m<module>\u001b[0;34m\u001b[0m\n\u001b[0;32m----> 1\u001b[0;31m \u001b[0mabc\u001b[0m\u001b[0;34m(\u001b[0m\u001b[0;34m)\u001b[0m\u001b[0;34m\u001b[0m\u001b[0;34m\u001b[0m\u001b[0m\n\u001b[0m",
      "\u001b[0;31mTypeError\u001b[0m: abc() missing 1 required positional argument: 'x'"
     ]
    }
   ],
   "source": [
    "abc()"
   ]
  },
  {
   "cell_type": "markdown",
   "metadata": {},
   "source": [
    "# Non Return Functions"
   ]
  },
  {
   "cell_type": "code",
   "execution_count": 18,
   "metadata": {},
   "outputs": [
    {
     "name": "stdout",
     "output_type": "stream",
     "text": [
      "Pakistan\n",
      "None\n"
     ]
    }
   ],
   "source": [
    "abc = print(\"Pakistan\")\n",
    "print(abc)"
   ]
  },
  {
   "cell_type": "code",
   "execution_count": 21,
   "metadata": {},
   "outputs": [
    {
     "name": "stdout",
     "output_type": "stream",
     "text": [
      "5 7 9\n",
      "21\n",
      "None\n"
     ]
    }
   ],
   "source": [
    "x = abc(5,7,9)\n",
    "print(x)"
   ]
  },
  {
   "cell_type": "code",
   "execution_count": 22,
   "metadata": {},
   "outputs": [
    {
     "name": "stdout",
     "output_type": "stream",
     "text": [
      "\n",
      "    PIAIC ISLAMABAD\n",
      "    id : 1\n",
      "    Name : A\n",
      "    Father's Name: B\n",
      "    course : C \n",
      "    timing : D\n",
      "None\n"
     ]
    }
   ],
   "source": [
    "card = id_card(1,'A',\"B\",\"C\",\"D\")\n",
    "print(card)"
   ]
  },
  {
   "cell_type": "markdown",
   "metadata": {},
   "source": [
    "# Return Functions"
   ]
  },
  {
   "cell_type": "code",
   "execution_count": 23,
   "metadata": {},
   "outputs": [
    {
     "name": "stdout",
     "output_type": "stream",
     "text": [
      "\n",
      "    PIAIC Islamabad\n",
      "    id: 1\n",
      "    Name: A\n",
      "    father's Name: B\n",
      "    course:  C\n",
      "    timing: D\n",
      "    \n"
     ]
    }
   ],
   "source": [
    "\n",
    "def id_card(sid, sname,fname,course, timing):\n",
    "    text = \"\"\"\n",
    "    PIAIC Islamabad\n",
    "    id: {}\n",
    "    Name: {}\n",
    "    father's Name: {}\n",
    "    course:  {}\n",
    "    timing: {}\n",
    "    \"\"\".format(sid,sname,fname,course,timing)\n",
    "    return text\n",
    "\n",
    "print(id_card(1,\"A\",\"B\",\"C\",\"D\"))"
   ]
  },
  {
   "cell_type": "code",
   "execution_count": 24,
   "metadata": {},
   "outputs": [
    {
     "data": {
      "text/plain": [
       "\"\\n    PIAIC Islamabad\\n    id: 1\\n    Name: A\\n    father's Name: B\\n    course:  C\\n    timing: D\\n    \""
      ]
     },
     "execution_count": 24,
     "metadata": {},
     "output_type": "execute_result"
    }
   ],
   "source": [
    "\n",
    "def id_card(sid, sname,fname,course, timing):\n",
    "    text = \"\"\"\n",
    "    PIAIC Islamabad\n",
    "    id: {}\n",
    "    Name: {}\n",
    "    father's Name: {}\n",
    "    course:  {}\n",
    "    timing: {}\n",
    "    \"\"\".format(sid,sname,fname,course,timing)\n",
    "    return text\n",
    "\n",
    "id_card(1,\"A\",\"B\",\"C\",\"D\")"
   ]
  },
  {
   "cell_type": "code",
   "execution_count": 25,
   "metadata": {},
   "outputs": [
    {
     "name": "stdout",
     "output_type": "stream",
     "text": [
      "\n",
      "    PIAIC Islamabad\n",
      "    id: 1\n",
      "    Name: A\n",
      "    father's Name: B\n",
      "    course:  C\n",
      "    timing: D\n",
      "    \n"
     ]
    }
   ],
   "source": [
    "def id_card(sid, sname,fname,course, timing):\n",
    "    text = \"\"\"\n",
    "    PIAIC Islamabad\n",
    "    id: {}\n",
    "    Name: {}\n",
    "    father's Name: {}\n",
    "    course:  {}\n",
    "    timing: {}\n",
    "    \"\"\".format(sid,sname,fname,course,timing)\n",
    "    return text # exit function from first return statment\n",
    "    return \"Qasim\"\n",
    "    return \"Ali\"\n",
    "    \n",
    "\n",
    "print(id_card(1,\"A\",\"B\",\"C\",\"D\"))"
   ]
  },
  {
   "cell_type": "code",
   "execution_count": 26,
   "metadata": {},
   "outputs": [
    {
     "name": "stdout",
     "output_type": "stream",
     "text": [
      "CHALO\n"
     ]
    }
   ],
   "source": [
    "def id_card(sid, sname,fname,course, timing):\n",
    "    text = \"\"\"\n",
    "    PIAIC Islamabad\n",
    "    id: {}\n",
    "    Name: {}\n",
    "    father's Name: {}\n",
    "    course:  {}\n",
    "    timing: {}\n",
    "    \"\"\".format(sid,sname,fname,course,timing)\n",
    "    return \"CHALO\" # exit function from first return statment\n",
    "    return \"Qasim\"\n",
    "    return \"Ali\"\n",
    "    \n",
    "\n",
    "print(id_card(1,\"A\",\"B\",\"C\",\"D\"))"
   ]
  },
  {
   "cell_type": "code",
   "execution_count": 28,
   "metadata": {},
   "outputs": [
    {
     "name": "stdout",
     "output_type": "stream",
     "text": [
      "(\"\\n    PIAIC Islamabad\\n    id: 1\\n    Name: A\\n    father's Name: B\\n    course:  C\\n    timing: D\\n    \", 'Qasim', 'Ali')\n",
      "Haye Haye\n",
      "\n",
      "    PIAIC Islamabad\n",
      "    id: 1\n",
      "    Name: A\n",
      "    father's Name: B\n",
      "    course:  C\n",
      "    timing: D\n",
      "     Qasim Ali\n"
     ]
    }
   ],
   "source": [
    "def id_card(sid, sname,fname,course, timing):\n",
    "    text = \"\"\"\n",
    "    PIAIC Islamabad\n",
    "    id: {}\n",
    "    Name: {}\n",
    "    father's Name: {}\n",
    "    course:  {}\n",
    "    timing: {}\n",
    "    \"\"\".format(sid,sname,fname,course,timing)\n",
    "    return text, \"Qasim\", \"Ali\" # return in tuple form\n",
    "    \n",
    "\n",
    "print(id_card(1,\"A\",\"B\",\"C\",\"D\"))\n",
    "print(\"Haye Haye\")\n",
    "print(*id_card(1,\"A\",\"B\",\"C\",\"D\"))"
   ]
  },
  {
   "cell_type": "code",
   "execution_count": 3,
   "metadata": {},
   "outputs": [
    {
     "name": "stdout",
     "output_type": "stream",
     "text": [
      "\n",
      "    PIAIC Islamabad\n",
      "    id: 1\n",
      "    Name: A\n",
      "    father's Name: B\n",
      "    course:  C\n",
      "    timing: D\n",
      "  Qasim Ali\n"
     ]
    }
   ],
   "source": [
    "def id_card(sid, sname,fname,course, timing):\n",
    "    text = \"\"\"\n",
    "    PIAIC Islamabad\n",
    "    id: {}\n",
    "    Name: {}\n",
    "    father's Name: {}\n",
    "    course:  {}\n",
    "    timing: {}\n",
    " \"\"\".format(sid,sname,fname,course,timing)\n",
    "    return text, \"Qasim\", \"Ali\" \n",
    "    \n",
    "\n",
    "print(*id_card(1,\"A\",\"B\",\"C\",\"D\"))"
   ]
  },
  {
   "cell_type": "markdown",
   "metadata": {},
   "source": [
    "# UPPER BLOCK OF CODE IS UNCLEAR When you write multiple texts in return it returns the tuple and if you write *with function name it  converts into list, why the last value is not on the next line?"
   ]
  },
  {
   "cell_type": "markdown",
   "metadata": {},
   "source": [
    "# KeyWord Arguments\n"
   ]
  },
  {
   "cell_type": "code",
   "execution_count": 30,
   "metadata": {},
   "outputs": [
    {
     "name": "stdout",
     "output_type": "stream",
     "text": [
      "\n",
      "    PIAIC Islamabad\n",
      "    id: Qasim\n",
      "    Name: Aslam\n",
      "    father's Name: 5007\n",
      "    course:  A.I\n",
      "    timing: 9 to 9\n",
      "    \n"
     ]
    }
   ],
   "source": [
    "def id_card(sid, sname,fname,course, timing):\n",
    "    text = \"\"\"\n",
    "    PIAIC Islamabad\n",
    "    id: {}\n",
    "    Name: {}\n",
    "    father's Name: {}\n",
    "    course:  {}\n",
    "    timing: {}\n",
    "    \"\"\".format(sid,sname,fname,course,timing)\n",
    "    return text\n",
    "\n",
    "print(id_card(\"Qasim\",\"Aslam\",5007,\"A.I\",\"9 to 9\"))"
   ]
  },
  {
   "cell_type": "code",
   "execution_count": 31,
   "metadata": {},
   "outputs": [
    {
     "name": "stdout",
     "output_type": "stream",
     "text": [
      "\n",
      "    PIAIC Islamabad\n",
      "    id: 5007\n",
      "    Name: Qasim\n",
      "    father's Name: Aslam\n",
      "    course:  A.I\n",
      "    timing: 9 to 9\n",
      "    \n"
     ]
    }
   ],
   "source": [
    "print(id_card(sname=\"Qasim\",fname=\"Aslam\",sid=5007,course=\"A.I\",timing=\"9 to 9\"))"
   ]
  },
  {
   "cell_type": "code",
   "execution_count": 32,
   "metadata": {},
   "outputs": [
    {
     "name": "stdout",
     "output_type": "stream",
     "text": [
      "\n",
      "    PIAIC Islamabad\n",
      "    id: 1\n",
      "    Name: Qasim\n",
      "    father's Name: Aslam\n",
      "    course:  A.i\n",
      "    timing: ABC\n",
      "    \n"
     ]
    }
   ],
   "source": [
    "#             p   p       k      w    k      w       k      w\n",
    "print(id_card(1,\"Qasim\",course=\"A.i\",fname=\"Aslam\",timing=\"ABC\"))\n",
    "# 2 positional\n",
    "# 3 Keyword Arguments"
   ]
  },
  {
   "cell_type": "markdown",
   "metadata": {},
   "source": [
    "# Argument with List"
   ]
  },
  {
   "cell_type": "code",
   "execution_count": 33,
   "metadata": {},
   "outputs": [
    {
     "name": "stdout",
     "output_type": "stream",
     "text": [
      "\n",
      "    PIAIC Islamabad\n",
      "    id: 1\n",
      "    Name: Talha\n",
      "    father's Name: Aslam\n",
      "    course:  A.I\n",
      "    timing: 9 to 12\n",
      "    \n"
     ]
    }
   ],
   "source": [
    "def id_card(sid, sname,fname,course, timing):\n",
    "    text = \"\"\"\n",
    "    PIAIC Islamabad\n",
    "    id: {}\n",
    "    Name: {}\n",
    "    father's Name: {}\n",
    "    course:  {}\n",
    "    timing: {}\n",
    "    \"\"\".format(sid,sname,fname,course,timing)\n",
    "    return text\n",
    "\n",
    "l1 = [1, \"Talha\", \"Aslam\", \"A.I\", \"9 to 12\"]\n",
    "\n",
    "print(id_card(l1[0],l1[1],l1[2],l1[3],l1[4]))"
   ]
  },
  {
   "cell_type": "code",
   "execution_count": 35,
   "metadata": {},
   "outputs": [
    {
     "name": "stdout",
     "output_type": "stream",
     "text": [
      "\n",
      "    PIAIC Islamabad\n",
      "    id: 1\n",
      "    Name: Qasim\n",
      "    father's Name: Aslam\n",
      "    course:  A.I\n",
      "    timing: 9 to 9\n",
      "    \n",
      "1 Qasim Aslam A.I 9 to 9\n"
     ]
    }
   ],
   "source": [
    "l1 = [1,\"Qasim\",\"Aslam\",\"A.I\",\"9 to 9\"]\n",
    "\n",
    "print(id_card(*l1))\n",
    "print(*l1)"
   ]
  },
  {
   "cell_type": "markdown",
   "metadata": {},
   "source": [
    "# Argument with Dictionary"
   ]
  },
  {
   "cell_type": "code",
   "execution_count": 53,
   "metadata": {},
   "outputs": [
    {
     "name": "stdout",
     "output_type": "stream",
     "text": [
      "\n",
      "    PIAIC Islamabad\n",
      "    id: 200\n",
      "    Name: M.Qasim\n",
      "    father's Name: Aslam\n",
      "    course:  A.I\n",
      "    timing: ABC\n",
      "    \n"
     ]
    }
   ],
   "source": [
    "def id_card(sid, sname,fname,course, timing):\n",
    "    text = \"\"\"\n",
    "    PIAIC Islamabad\n",
    "    id: {}\n",
    "    Name: {}\n",
    "    father's Name: {}\n",
    "    course:  {}\n",
    "    timing: {}\n",
    "    \"\"\".format(sid,sname,fname,course,timing)\n",
    "    return text\n",
    "\n",
    "\n",
    "d1 = {\n",
    "    'course':'A.I',\n",
    "    'sname':'M.Qasim',\n",
    "    'fname':'Aslam',\n",
    "    'sid': 200,\n",
    "    'timing': \"ABC\"\n",
    "}\n",
    "\n",
    "\n",
    "#print(id_card(sname=\"Qasim\",fname=\"Aslam\",sid=5007,course=\"A.I\",timing=\"9 to 9\"))\n",
    "print(id_card(**d1))"
   ]
  },
  {
   "cell_type": "markdown",
   "metadata": {},
   "source": [
    "# Recursive Function"
   ]
  },
  {
   "cell_type": "code",
   "execution_count": 55,
   "metadata": {},
   "outputs": [
    {
     "name": "stdout",
     "output_type": "stream",
     "text": [
      "5\n",
      "4\n",
      "3\n",
      "2\n",
      "1\n"
     ]
    },
    {
     "data": {
      "text/plain": [
       "120"
      ]
     },
     "execution_count": 55,
     "metadata": {},
     "output_type": "execute_result"
    }
   ],
   "source": [
    "def abc(n):\n",
    "    print(n)\n",
    "    if n ==1:\n",
    "        return 1\n",
    "    return n*abc(n-1)\n",
    "abc(5)"
   ]
  },
  {
   "cell_type": "code",
   "execution_count": 4,
   "metadata": {},
   "outputs": [
    {
     "name": "stdout",
     "output_type": "stream",
     "text": [
      "5\n",
      "4\n",
      "3\n",
      "2\n",
      "1\n",
      "0\n"
     ]
    },
    {
     "data": {
      "text/plain": [
       "120"
      ]
     },
     "execution_count": 4,
     "metadata": {},
     "output_type": "execute_result"
    }
   ],
   "source": [
    "def abc(n):\n",
    "    print(n)\n",
    "    if n ==0:\n",
    "        return 1\n",
    "    return n*abc(n-1)\n",
    "abc(5)"
   ]
  },
  {
   "cell_type": "markdown",
   "metadata": {},
   "source": [
    "# Generator Functions"
   ]
  },
  {
   "cell_type": "code",
   "execution_count": 56,
   "metadata": {},
   "outputs": [
    {
     "name": "stdout",
     "output_type": "stream",
     "text": [
      "<generator object abc at 0x7fd793dc7390>\n",
      "0\n",
      "1\n",
      "2\n",
      "3\n",
      "4\n",
      "5\n",
      "[6, 7, 8, 9, 10]\n"
     ]
    }
   ],
   "source": [
    "def abc():\n",
    "    for i in range(11):\n",
    "        yield i\n",
    "        \n",
    "a = abc()        \n",
    "print(a)\n",
    "print(next(a))\n",
    "print(next(a))\n",
    "print(next(a))\n",
    "print(next(a))\n",
    "print(next(a))\n",
    "print(next(a))\n",
    "\n",
    "print(list(a))"
   ]
  },
  {
   "cell_type": "markdown",
   "metadata": {},
   "source": [
    "# Lambda Functions\n"
   ]
  },
  {
   "cell_type": "code",
   "execution_count": 57,
   "metadata": {},
   "outputs": [
    {
     "data": {
      "text/plain": [
       "13"
      ]
     },
     "execution_count": 57,
     "metadata": {},
     "output_type": "execute_result"
    }
   ],
   "source": [
    "def xyz(a,b):\n",
    "    return a + b\n",
    "\n",
    "xyz(5,8)"
   ]
  },
  {
   "cell_type": "code",
   "execution_count": 58,
   "metadata": {},
   "outputs": [
    {
     "data": {
      "text/plain": [
       "13"
      ]
     },
     "execution_count": 58,
     "metadata": {},
     "output_type": "execute_result"
    }
   ],
   "source": [
    "def xyz(a,b): return a + b\n",
    "\n",
    "xyz(5,8)"
   ]
  },
  {
   "cell_type": "code",
   "execution_count": null,
   "metadata": {},
   "outputs": [],
   "source": [
    "xyz = lambda a,b: a + b\n",
    "\n",
    "xyz(5,7)"
   ]
  }
 ],
 "metadata": {
  "kernelspec": {
   "display_name": "Python 3",
   "language": "python",
   "name": "python3"
  },
  "language_info": {
   "codemirror_mode": {
    "name": "ipython",
    "version": 3
   },
   "file_extension": ".py",
   "mimetype": "text/x-python",
   "name": "python",
   "nbconvert_exporter": "python",
   "pygments_lexer": "ipython3",
   "version": "3.7.1"
  }
 },
 "nbformat": 4,
 "nbformat_minor": 2
}
