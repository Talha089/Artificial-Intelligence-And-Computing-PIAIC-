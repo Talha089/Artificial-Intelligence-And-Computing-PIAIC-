{
 "cells": [
  {
   "cell_type": "markdown",
   "metadata": {},
   "source": [
    "# Topic\n",
    "* Class\n",
    "* instance\n",
    "* Method\n",
    "* Attributes/properties\n",
    "* class variable\n",
    "* instance variable\n",
    "* inheritance\n",
    "* encupsolation\n",
    "* Abstraction\n",
    "* Ploymorphisim"
   ]
  },
  {
   "cell_type": "code",
   "execution_count": 1,
   "metadata": {},
   "outputs": [],
   "source": [
    "class Student():\n",
    "    def __init__(self,sid):\n",
    "        self.sid = sid\n",
    "        self.sname = \"\"\n",
    "        self.fname = \"\"\n",
    "        self.course = \"\"\n",
    "        self.fee = \"\"\n",
    "        \n",
    "    def login(self):\n",
    "        pass\n",
    "    \n",
    "    def logout(self):\n",
    "        pass\n",
    "    \n",
    "    def quiz_attempt(self):\n",
    "        pass\n",
    "    \n",
    "    def attendance_mark(self):\n",
    "        pass\n",
    "    \n",
    "s1 = Student(1)\n",
    "s2 = Student(2)\n",
    "s3 = Student(3)"
   ]
  },
  {
   "cell_type": "code",
   "execution_count": 3,
   "metadata": {},
   "outputs": [
    {
     "name": "stdout",
     "output_type": "stream",
     "text": [
      "\n",
      "\n",
      "\n"
     ]
    }
   ],
   "source": [
    "print(s1.fname,s2.sname,s3.sname,sep=\"\\n\")"
   ]
  },
  {
   "cell_type": "code",
   "execution_count": 6,
   "metadata": {},
   "outputs": [
    {
     "name": "stdout",
     "output_type": "stream",
     "text": [
      "1\n",
      "2\n",
      "100\n"
     ]
    }
   ],
   "source": [
    "class Student():\n",
    "    def __init__(this, sid):\n",
    "        this.sid = sid\n",
    "        this.name = \"\"\n",
    "        this.fname = \"\"\n",
    "        this.course = \"\"\n",
    "        this.fee = 0\n",
    "        \n",
    "    def login(this):\n",
    "        pass\n",
    "    \n",
    "    def logout(this):\n",
    "        pass\n",
    "    \n",
    "    def quiz_attemp(this):\n",
    "        pass\n",
    "    \n",
    "    def attendance_mark(this):\n",
    "        pass\n",
    "        \n",
    "\n",
    "s1 = Student(1)\n",
    "s2 = Student(2)\n",
    "s3 = Student(100)\n",
    "\n",
    "print(s1.sid, s2.sid, s3.sid, sep=\"\\n\")"
   ]
  },
  {
   "cell_type": "markdown",
   "metadata": {},
   "source": [
    "# Class Variable"
   ]
  },
  {
   "cell_type": "code",
   "execution_count": 16,
   "metadata": {},
   "outputs": [
    {
     "data": {
      "text/plain": [
       "3"
      ]
     },
     "execution_count": 16,
     "metadata": {},
     "output_type": "execute_result"
    }
   ],
   "source": [
    "class Student(): # Class name\n",
    "    \n",
    "    counter = 0  # Class variable\n",
    "    \n",
    "    def __init__(self,sid):\n",
    "        self.sid = sid # Attributes/properties/field/DataMember\n",
    "        self.name = \"\"\n",
    "        self.fname = \"\"\n",
    "        self.course = \"\"\n",
    "        self.fee = 0    # Attributes/properties/field/DataMember\n",
    "        self.user=\"abc\"\n",
    "        Student.counter += 1\n",
    "        \n",
    "    def login(self,user_name, password): # Method/Action/Function\n",
    "        self.user = user_name\n",
    "        print(\"Welcome\", self.user)\n",
    "    \n",
    "    def logout(self):\n",
    "        pass\n",
    "    \n",
    "    def quiz_attempt(self):\n",
    "        pass\n",
    "    def attendance_mark(self):\n",
    "        pass\n",
    "    \n",
    "s1 = Student(1) #counter 1\n",
    "s2 = Student(2) # counter 2\n",
    "s3 = Student(3) #counter 3\n",
    "s1.counter\n"
   ]
  },
  {
   "cell_type": "code",
   "execution_count": 17,
   "metadata": {},
   "outputs": [
    {
     "data": {
      "text/plain": [
       "3"
      ]
     },
     "execution_count": 17,
     "metadata": {},
     "output_type": "execute_result"
    }
   ],
   "source": [
    "Student.counter"
   ]
  },
  {
   "cell_type": "code",
   "execution_count": 18,
   "metadata": {},
   "outputs": [
    {
     "name": "stdout",
     "output_type": "stream",
     "text": [
      "Welcome Talha\n"
     ]
    }
   ],
   "source": [
    "s1.login(\"Talha\",\"Pakistan\")"
   ]
  },
  {
   "cell_type": "code",
   "execution_count": 19,
   "metadata": {},
   "outputs": [
    {
     "name": "stdout",
     "output_type": "stream",
     "text": [
      "abcd\n"
     ]
    }
   ],
   "source": [
    "s1.DOB = \"abcd\"\n",
    "print(s1.DOB)"
   ]
  },
  {
   "cell_type": "code",
   "execution_count": 20,
   "metadata": {},
   "outputs": [
    {
     "data": {
      "text/plain": [
       "<__main__.Student at 0x7f60aa3380f0>"
      ]
     },
     "execution_count": 20,
     "metadata": {},
     "output_type": "execute_result"
    }
   ],
   "source": [
    "s1"
   ]
  },
  {
   "cell_type": "code",
   "execution_count": 21,
   "metadata": {},
   "outputs": [],
   "source": [
    "del s1.DOB"
   ]
  },
  {
   "cell_type": "markdown",
   "metadata": {},
   "source": [
    "# Inheritance"
   ]
  },
  {
   "cell_type": "code",
   "execution_count": 25,
   "metadata": {},
   "outputs": [],
   "source": [
    "class Parent():\n",
    "    def __init__(self):\n",
    "        self.name=\"\"\n",
    "        self.fname=\"\"\n",
    "        \n",
    "    def speak(self, words=\"\"):\n",
    "        print(words,\"...\")\n",
    "        \n",
    "    def eat(self,food=\"rice\"):\n",
    "        print(food)\n",
    "    \n",
    "class Child(Parent):\n",
    "    pass\n"
   ]
  },
  {
   "cell_type": "code",
   "execution_count": 26,
   "metadata": {},
   "outputs": [
    {
     "name": "stdout",
     "output_type": "stream",
     "text": [
      "ABC\n"
     ]
    }
   ],
   "source": [
    "p_obj1 = Parent()\n",
    "p_obj1.name = \"ABC\"\n",
    "print(p_obj1.name)"
   ]
  },
  {
   "cell_type": "code",
   "execution_count": 27,
   "metadata": {},
   "outputs": [
    {
     "name": "stdout",
     "output_type": "stream",
     "text": [
      "Pakistan Zindabad ...\n"
     ]
    }
   ],
   "source": [
    "c_obj1 = Child()\n",
    "c_obj1.speak(\"Pakistan Zindabad\")"
   ]
  },
  {
   "cell_type": "code",
   "execution_count": 30,
   "metadata": {},
   "outputs": [
    {
     "name": "stdout",
     "output_type": "stream",
     "text": [
      "FL\n"
     ]
    }
   ],
   "source": [
    "class Father():\n",
    "    def __init__(self):\n",
    "        self.sound = \"Fs\"\n",
    "        self.eye_color = \"Blue\"\n",
    "        \n",
    "    def speak(self):\n",
    "        print(\"Father voice\")\n",
    "    \n",
    "    def listening(self):\n",
    "        print(\"FL\")\n",
    "        \n",
    "class Mother():\n",
    "    def __init__(self):\n",
    "        self.face = \"Mother\"\n",
    "        self.hair_color = \"Black\"\n",
    "        \n",
    "    def listening(self):\n",
    "        print(\"ML\")\n",
    "        \n",
    "    def abc(self):\n",
    "        print(\"MABC\")\n",
    "\n",
    "class Child(Father,Mother):\n",
    "    pass\n",
    "\n",
    "asif = Child()\n",
    "asif.listening()"
   ]
  },
  {
   "cell_type": "markdown",
   "metadata": {},
   "source": [
    "# Polymorphism"
   ]
  },
  {
   "cell_type": "markdown",
   "metadata": {},
   "source": [
    "## Overloading"
   ]
  },
  {
   "cell_type": "code",
   "execution_count": 31,
   "metadata": {},
   "outputs": [
    {
     "name": "stdout",
     "output_type": "stream",
     "text": [
      "1\n",
      "10\n"
     ]
    }
   ],
   "source": [
    "class A():\n",
    "    \n",
    "    def abc(self,*n):\n",
    "        print(sum(n))\n",
    "        \n",
    "obj = A()\n",
    "obj.abc(1)\n",
    "obj.abc(1,2,3,4)"
   ]
  },
  {
   "cell_type": "code",
   "execution_count": 33,
   "metadata": {},
   "outputs": [
    {
     "name": "stdout",
     "output_type": "stream",
     "text": [
      "Speak Function class B\n",
      "Speak Function Class A\n"
     ]
    }
   ],
   "source": [
    "class A():\n",
    "    def speak(self):\n",
    "        print(\"Speak Function Class A\")\n",
    "        \n",
    "class B(A):\n",
    "    def speak(self): # Overriding\n",
    "        print(\"Speak Function class B\")\n",
    "        \n",
    "obj1 = B()\n",
    "obj1.speak()\n",
    "        \n",
    "obj2 = A()\n",
    "obj2.speak()"
   ]
  },
  {
   "cell_type": "code",
   "execution_count": 35,
   "metadata": {},
   "outputs": [
    {
     "name": "stdout",
     "output_type": "stream",
     "text": [
      "Islamabad is the Capital of Pakistan.\n",
      "Urdu the primary language of Pakistan.\n",
      "Pakistan is a developing country.\n",
      "Washington, D.C. is the capital of USA.\n",
      "English is the primary language of USA.\n",
      "USA is a developed country.\n"
     ]
    }
   ],
   "source": [
    "class Pakistan(): \n",
    "    def capital(self): \n",
    "        print(\"Islamabad is the Capital of Pakistan.\") \n",
    "\n",
    "    def language(self): \n",
    "        print(\"Urdu the primary language of Pakistan.\") \n",
    "\n",
    "    def type(self): \n",
    "        print(\"Pakistan is a developing country.\") \n",
    "\n",
    "class USA(): \n",
    "    def capital(self): \n",
    "        print(\"Washington, D.C. is the capital of USA.\") \n",
    "\n",
    "    def language(self): \n",
    "        print(\"English is the primary language of USA.\") \n",
    "\n",
    "    def type(self): \n",
    "        print(\"USA is a developed country.\") \n",
    "\n",
    "obj_pak = Pakistan() \n",
    "obj_usa = USA() \n",
    "for country in (obj_pak, obj_usa): \n",
    "    country.capital() \n",
    "    country.language() \n",
    "    country.type() \n"
   ]
  },
  {
   "cell_type": "markdown",
   "metadata": {},
   "source": [
    "# Encapsulation"
   ]
  },
  {
   "cell_type": "code",
   "execution_count": 55,
   "metadata": {},
   "outputs": [],
   "source": [
    "class A():\n",
    "    def __init__(self, name, age):\n",
    "        self.__sname = name\n",
    "        self.__age = age\n",
    "        \n",
    "    def display(self):\n",
    "        print(\"Name:\", self.__sname)\n",
    "        print(\"Age:\", self.__age)\n",
    "        \n",
    "    def change(self, a , b):\n",
    "        self.__sname = a\n",
    "        self.__age = b\n",
    "        \n",
    "    def __info(self):\n",
    "        print(\"Hello World\")\n",
    "        \n",
    "    def abc(self):\n",
    "        self.__info()\n",
    "\n",
    "obj1 = A(\"Talha\",24)"
   ]
  },
  {
   "cell_type": "code",
   "execution_count": 56,
   "metadata": {},
   "outputs": [
    {
     "ename": "AttributeError",
     "evalue": "'A' object has no attribute 'sname'",
     "output_type": "error",
     "traceback": [
      "\u001b[0;31m---------------------------------------------------------------------------\u001b[0m",
      "\u001b[0;31mAttributeError\u001b[0m                            Traceback (most recent call last)",
      "\u001b[0;32m<ipython-input-56-63bb28389f86>\u001b[0m in \u001b[0;36m<module>\u001b[0;34m\u001b[0m\n\u001b[0;32m----> 1\u001b[0;31m \u001b[0mobj1\u001b[0m\u001b[0;34m.\u001b[0m\u001b[0msname\u001b[0m\u001b[0;34m\u001b[0m\u001b[0;34m\u001b[0m\u001b[0m\n\u001b[0m",
      "\u001b[0;31mAttributeError\u001b[0m: 'A' object has no attribute 'sname'"
     ]
    }
   ],
   "source": [
    "obj1.sname"
   ]
  },
  {
   "cell_type": "code",
   "execution_count": 57,
   "metadata": {},
   "outputs": [
    {
     "data": {
      "text/plain": [
       "'Talha'"
      ]
     },
     "execution_count": 57,
     "metadata": {},
     "output_type": "execute_result"
    }
   ],
   "source": [
    "obj1._A__sname"
   ]
  },
  {
   "cell_type": "code",
   "execution_count": 58,
   "metadata": {},
   "outputs": [
    {
     "name": "stdout",
     "output_type": "stream",
     "text": [
      "Name: Talha\n",
      "Age: 24\n"
     ]
    }
   ],
   "source": [
    "obj1.display()"
   ]
  },
  {
   "cell_type": "code",
   "execution_count": 61,
   "metadata": {},
   "outputs": [
    {
     "name": "stdout",
     "output_type": "stream",
     "text": [
      "Name: John\n",
      "Age: 30\n"
     ]
    }
   ],
   "source": [
    "obj1.change(\"John\",30)\n",
    "obj1.display()"
   ]
  },
  {
   "cell_type": "code",
   "execution_count": 62,
   "metadata": {},
   "outputs": [
    {
     "name": "stdout",
     "output_type": "stream",
     "text": [
      "Hello World\n"
     ]
    }
   ],
   "source": [
    "obj1.abc()"
   ]
  },
  {
   "cell_type": "markdown",
   "metadata": {},
   "source": [
    "# Abstract Class"
   ]
  },
  {
   "cell_type": "code",
   "execution_count": 63,
   "metadata": {},
   "outputs": [],
   "source": [
    "class A: # Abstract class\n",
    "    def __init__(self,a,b):\n",
    "        self.a = a\n",
    "        self.b = b\n",
    "        \n",
    "class B(A):\n",
    "    pass"
   ]
  },
  {
   "cell_type": "code",
   "execution_count": 64,
   "metadata": {},
   "outputs": [],
   "source": [
    "obj1 = A(2,5)"
   ]
  },
  {
   "cell_type": "code",
   "execution_count": 67,
   "metadata": {},
   "outputs": [
    {
     "name": "stdout",
     "output_type": "stream",
     "text": [
      "5\n",
      "2\n"
     ]
    }
   ],
   "source": [
    "print(obj1.b)\n",
    "print(obj1.a)"
   ]
  },
  {
   "cell_type": "code",
   "execution_count": 69,
   "metadata": {},
   "outputs": [],
   "source": [
    "obj2 = B(3,4)"
   ]
  },
  {
   "cell_type": "code",
   "execution_count": 70,
   "metadata": {},
   "outputs": [
    {
     "ename": "TypeError",
     "evalue": "Can't instantiate abstract class A with abstract methods abc",
     "output_type": "error",
     "traceback": [
      "\u001b[0;31m---------------------------------------------------------------------------\u001b[0m",
      "\u001b[0;31mTypeError\u001b[0m                                 Traceback (most recent call last)",
      "\u001b[0;32m<ipython-input-70-cda4c562e574>\u001b[0m in \u001b[0;36m<module>\u001b[0;34m\u001b[0m\n\u001b[1;32m     14\u001b[0m     \u001b[0;32mpass\u001b[0m\u001b[0;34m\u001b[0m\u001b[0;34m\u001b[0m\u001b[0m\n\u001b[1;32m     15\u001b[0m \u001b[0;34m\u001b[0m\u001b[0m\n\u001b[0;32m---> 16\u001b[0;31m \u001b[0mobj1\u001b[0m \u001b[0;34m=\u001b[0m \u001b[0mA\u001b[0m\u001b[0;34m(\u001b[0m\u001b[0;36m5\u001b[0m\u001b[0;34m,\u001b[0m\u001b[0;36m7\u001b[0m\u001b[0;34m)\u001b[0m\u001b[0;34m\u001b[0m\u001b[0;34m\u001b[0m\u001b[0m\n\u001b[0m\u001b[1;32m     17\u001b[0m \u001b[0;34m\u001b[0m\u001b[0m\n",
      "\u001b[0;31mTypeError\u001b[0m: Can't instantiate abstract class A with abstract methods abc"
     ]
    }
   ],
   "source": [
    "from abc import ABC,abstractmethod\n",
    "\n",
    "class A(ABC):\n",
    "    \n",
    "    def __init__(self, a, b):\n",
    "        self.a = a\n",
    "        self.b = b\n",
    "        \n",
    "    @abstractmethod\n",
    "    def abc():\n",
    "        pass\n",
    "\n",
    "class B(A):\n",
    "    pass\n",
    "\n",
    "obj1 = A(5,7)\n",
    "        "
   ]
  },
  {
   "cell_type": "code",
   "execution_count": 71,
   "metadata": {},
   "outputs": [
    {
     "ename": "TypeError",
     "evalue": "Can't instantiate abstract class B with abstract methods abc",
     "output_type": "error",
     "traceback": [
      "\u001b[0;31m---------------------------------------------------------------------------\u001b[0m",
      "\u001b[0;31mTypeError\u001b[0m                                 Traceback (most recent call last)",
      "\u001b[0;32m<ipython-input-71-b894ffb95d50>\u001b[0m in \u001b[0;36m<module>\u001b[0;34m\u001b[0m\n\u001b[0;32m----> 1\u001b[0;31m \u001b[0mobj2\u001b[0m \u001b[0;34m=\u001b[0m \u001b[0mB\u001b[0m\u001b[0;34m(\u001b[0m\u001b[0;36m5\u001b[0m\u001b[0;34m,\u001b[0m \u001b[0;36m7\u001b[0m\u001b[0;34m)\u001b[0m\u001b[0;34m\u001b[0m\u001b[0;34m\u001b[0m\u001b[0m\n\u001b[0m",
      "\u001b[0;31mTypeError\u001b[0m: Can't instantiate abstract class B with abstract methods abc"
     ]
    }
   ],
   "source": [
    "obj2 = B(5, 7)"
   ]
  },
  {
   "cell_type": "code",
   "execution_count": 72,
   "metadata": {},
   "outputs": [
    {
     "ename": "TypeError",
     "evalue": "Can't instantiate abstract class Human with abstract methods __init__",
     "output_type": "error",
     "traceback": [
      "\u001b[0;31m---------------------------------------------------------------------------\u001b[0m",
      "\u001b[0;31mTypeError\u001b[0m                                 Traceback (most recent call last)",
      "\u001b[0;32m<ipython-input-72-d1dbfed76b33>\u001b[0m in \u001b[0;36m<module>\u001b[0;34m\u001b[0m\n\u001b[1;32m     13\u001b[0m         \u001b[0;32mreturn\u001b[0m \u001b[0;34m\"Objece name is {} {} old.\"\u001b[0m\u001b[0;34m.\u001b[0m\u001b[0mformat\u001b[0m\u001b[0;34m(\u001b[0m\u001b[0mself\u001b[0m\u001b[0;34m.\u001b[0m\u001b[0mname\u001b[0m\u001b[0;34m,\u001b[0m\u001b[0mself\u001b[0m\u001b[0;34m.\u001b[0m\u001b[0mage\u001b[0m\u001b[0;34m)\u001b[0m\u001b[0;34m\u001b[0m\u001b[0;34m\u001b[0m\u001b[0m\n\u001b[1;32m     14\u001b[0m \u001b[0;34m\u001b[0m\u001b[0m\n\u001b[0;32m---> 15\u001b[0;31m \u001b[0mp1\u001b[0m\u001b[0;34m=\u001b[0m\u001b[0mHuman\u001b[0m\u001b[0;34m(\u001b[0m\u001b[0;34m)\u001b[0m\u001b[0;34m\u001b[0m\u001b[0;34m\u001b[0m\u001b[0m\n\u001b[0m\u001b[1;32m     16\u001b[0m \u001b[0mp1\u001b[0m\u001b[0;34m.\u001b[0m\u001b[0mdisplay\u001b[0m\u001b[0;34m(\u001b[0m\u001b[0;34m'qasim'\u001b[0m\u001b[0;34m,\u001b[0m\u001b[0;36m25\u001b[0m\u001b[0;34m)\u001b[0m\u001b[0;34m\u001b[0m\u001b[0;34m\u001b[0m\u001b[0m\n",
      "\u001b[0;31mTypeError\u001b[0m: Can't instantiate abstract class Human with abstract methods __init__"
     ]
    }
   ],
   "source": [
    "from abc import ABC, abstractmethod\n",
    "\n",
    "class Human(ABC): \n",
    "    \n",
    "    @abstractmethod\n",
    "    def __init__(self):\n",
    "        self.name=None\n",
    "        self.age=None\n",
    "    \n",
    "    def display(self,name,age):\n",
    "        self.name=name\n",
    "        self.age=age\n",
    "        return \"Objece name is {} {} old.\".format(self.name,self.age)\n",
    "\n",
    "p1=Human()\n",
    "p1.display('qasim',25)"
   ]
  },
  {
   "cell_type": "code",
   "execution_count": 73,
   "metadata": {},
   "outputs": [],
   "source": [
    "\n",
    "class Male(Human):\n",
    "    \n",
    "    def __init__(self):\n",
    "        self.name='qasim'\n",
    "        self.fname='aslam'\n",
    "    \n",
    "    def laughter(self):\n",
    "        return 'Hahahahahah!'\n",
    "\n",
    "p1=Male()"
   ]
  },
  {
   "cell_type": "code",
   "execution_count": null,
   "metadata": {},
   "outputs": [],
   "source": []
  }
 ],
 "metadata": {
  "kernelspec": {
   "display_name": "Python 3",
   "language": "python",
   "name": "python3"
  },
  "language_info": {
   "codemirror_mode": {
    "name": "ipython",
    "version": 3
   },
   "file_extension": ".py",
   "mimetype": "text/x-python",
   "name": "python",
   "nbconvert_exporter": "python",
   "pygments_lexer": "ipython3",
   "version": "3.7.1"
  }
 },
 "nbformat": 4,
 "nbformat_minor": 2
}
