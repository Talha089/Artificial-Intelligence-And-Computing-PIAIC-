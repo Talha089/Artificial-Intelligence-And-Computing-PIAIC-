{
 "cells": [
  {
   "cell_type": "code",
   "execution_count": 2,
   "metadata": {},
   "outputs": [
    {
     "name": "stdout",
     "output_type": "stream",
     "text": [
      "2\n",
      "6\n",
      "10\n",
      "14\n",
      "18\n"
     ]
    }
   ],
   "source": [
    "# understand the Iterations of For loop\n",
    "for i in range(1,10,2):\n",
    "    print(str(i*2))"
   ]
  },
  {
   "cell_type": "code",
   "execution_count": 5,
   "metadata": {},
   "outputs": [
    {
     "name": "stdout",
     "output_type": "stream",
     "text": [
      "0 1 2 \n",
      "\n",
      "0 2 4 \n",
      "\n",
      "0 3 6 \n",
      "\n",
      "0 4 8 \n",
      "\n"
     ]
    }
   ],
   "source": [
    "#Nested For Loop\n",
    "\n",
    "for i in range(1,5):\n",
    "    for j in range(0,3):\n",
    "        print(str(i*j), end=' ')\n",
    "    print('\\n')"
   ]
  },
  {
   "cell_type": "code",
   "execution_count": null,
   "metadata": {},
   "outputs": [],
   "source": [
    "sach = False\n",
    "Counter = 0\n",
    "while(sach != True):\n",
    "    if counter == 10:\n",
    "        sach = True\n",
    "    counter += 1\n",
    "    print('Yuiiiiiiii')\n",
    "print('Total liter == ' +str(counter))\n"
   ]
  },
  {
   "cell_type": "code",
   "execution_count": 4,
   "metadata": {},
   "outputs": [
    {
     "name": "stdout",
     "output_type": "stream",
     "text": [
      "0\n",
      "1\n",
      "2\n",
      "3\n",
      "4\n",
      "5\n",
      "6\n"
     ]
    }
   ],
   "source": [
    "#Task #1\n",
    "\n",
    "\n",
    "#Take a list of 10 numbers (0 to 9)\n",
    "# Use while loop to find number 6 in list\n",
    "#if found print index else keep finding...\n",
    "\n",
    "\n",
    "numbers = [0,1,2,3,4,5,6,7,8,9]\n",
    "index = 0\n",
    "while (index < 10):\n",
    "    print(numbers[index])\n",
    "    \n",
    "    if numbers[index] == 6:\n",
    "        break\n",
    "    else:\n",
    "        index += 1\n"
   ]
  },
  {
   "cell_type": "code",
   "execution_count": null,
   "metadata": {},
   "outputs": [],
   "source": []
  }
 ],
 "metadata": {
  "kernelspec": {
   "display_name": "Python 3",
   "language": "python",
   "name": "python3"
  }
 },
 "nbformat": 4,
 "nbformat_minor": 2
}
