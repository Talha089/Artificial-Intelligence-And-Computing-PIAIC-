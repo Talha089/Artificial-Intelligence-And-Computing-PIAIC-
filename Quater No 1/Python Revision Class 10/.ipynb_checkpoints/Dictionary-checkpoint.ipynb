{
 "cells": [
  {
   "cell_type": "code",
   "execution_count": 1,
   "metadata": {},
   "outputs": [],
   "source": [
    "persondata = {\n",
    "    \"name\" : \"Bob\" , \"age\" : 25, \"job\" : \"Dex\"\n",
    "    \n",
    "}"
   ]
  },
  {
   "cell_type": "code",
   "execution_count": 2,
   "metadata": {},
   "outputs": [],
   "source": [
    "persondata[\"hobbies\"] = ['Travelling', 'Partying']"
   ]
  },
  {
   "cell_type": "code",
   "execution_count": 3,
   "metadata": {},
   "outputs": [
    {
     "data": {
      "text/plain": [
       "{'name': 'Bob', 'age': 25, 'job': 'Dex', 'hobbies': ['Travelling', 'Partying']}"
      ]
     },
     "execution_count": 3,
     "metadata": {},
     "output_type": "execute_result"
    }
   ],
   "source": [
    "persondata"
   ]
  },
  {
   "cell_type": "code",
   "execution_count": 4,
   "metadata": {},
   "outputs": [],
   "source": [
    "workExperience = {\n",
    "    \"location\" : \"Pakistan\",\n",
    "    \"startYear\" : 2018,\n",
    "    \"endYear\" : 2019,\n",
    "    \"title\" : \"Mobile Developer\"\n",
    "}"
   ]
  },
  {
   "cell_type": "code",
   "execution_count": 5,
   "metadata": {},
   "outputs": [
    {
     "data": {
      "text/plain": [
       "{'name': 'Bob',\n",
       " 'age': 25,\n",
       " 'job': 'Dex',\n",
       " 'hobbies': ['Travelling', 'Partying'],\n",
       " 'experience': {'location': 'Pakistan',\n",
       "  'startYear': 2018,\n",
       "  'endYear': 2019,\n",
       "  'title': 'Mobile Developer'}}"
      ]
     },
     "execution_count": 5,
     "metadata": {},
     "output_type": "execute_result"
    }
   ],
   "source": [
    "# First way of Adding values in Dictionay\n",
    "\n",
    "persondata['experience'] = workExperience\n",
    "persondata"
   ]
  },
  {
   "cell_type": "code",
   "execution_count": 6,
   "metadata": {},
   "outputs": [
    {
     "data": {
      "text/plain": [
       "{'location': 'Pakistan',\n",
       " 'startYear': 2018,\n",
       " 'endYear': 2019,\n",
       " 'title': 'Mobile Developer'}"
      ]
     },
     "execution_count": 6,
     "metadata": {},
     "output_type": "execute_result"
    }
   ],
   "source": [
    "# First way of displaying values in Dictionay\n",
    "persondata['experience']"
   ]
  },
  {
   "cell_type": "code",
   "execution_count": 8,
   "metadata": {},
   "outputs": [
    {
     "name": "stdout",
     "output_type": "stream",
     "text": [
      "{'location': 'Pakistan', 'startYear': 2018, 'endYear': 2019, 'title': 'Mobile Developer'}\n"
     ]
    }
   ],
   "source": [
    "# Second way of displaying values in Dictionay\n",
    "\n",
    "print(persondata.get('experience'))"
   ]
  },
  {
   "cell_type": "code",
   "execution_count": 9,
   "metadata": {},
   "outputs": [
    {
     "data": {
      "text/plain": [
       "'Mobile Developer'"
      ]
     },
     "execution_count": 9,
     "metadata": {},
     "output_type": "execute_result"
    }
   ],
   "source": [
    "\n",
    "persondata[\"experience\"][\"title\"]"
   ]
  },
  {
   "cell_type": "code",
   "execution_count": 15,
   "metadata": {},
   "outputs": [
    {
     "name": "stdout",
     "output_type": "stream",
     "text": [
      "Enter your name : kka\n",
      "Enter you Mathematics marks:3\n",
      "Enter you English marks:2\n",
      "Enter you Physics marks:1\n",
      "Enter your hobbies with comma speparated valuesdsadsa,fggfdsg,d\n",
      "Are you want to exit? YES/NONO\n",
      "Enter your name : mmm\n",
      "Enter you Mathematics marks:4\n",
      "Enter you English marks:3\n",
      "Enter you Physics marks:2\n",
      "Enter your hobbies with comma speparated valuesds,jhg,dsa\n",
      "Are you want to exit? YES/NOYES\n"
     ]
    }
   ],
   "source": [
    ",\n",
    "d1 = dict()\n",
    "x = 'NO'\n",
    "while(x!='YES'):\n",
    "\n",
    "    name = input(\"Enter your name : \")\n",
    "    math = input(\"Enter you Mathematics marks:\")\n",
    "    english = input(\"Enter you English marks:\")\n",
    "    physics = input(\"Enter you Physics marks:\")\n",
    "    hobbies = input(\"Enter your hobbies with comma speparated values\")\n",
    "    hobbies = hobbies.split(\",\")\n",
    "\n",
    "\n",
    "    d1['name'] = name\n",
    "    d1['math'] = math\n",
    "    d1['english'] = english\n",
    "    d1['physics'] = physics\n",
    "    d1['hobbies'] = hobbies\n",
    "\n",
    "    x = input(\"Are you want to exit? YES/NO\")\n",
    "    if x == 'YES':\n",
    "        break"
   ]
  },
  {
   "cell_type": "code",
   "execution_count": 16,
   "metadata": {},
   "outputs": [
    {
     "data": {
      "text/plain": [
       "{'name': 'mmm',\n",
       " 'math': '4',\n",
       " 'english': '3',\n",
       " 'physics': '2',\n",
       " 'hobbies': ['ds', 'jhg', 'dsa']}"
      ]
     },
     "execution_count": 16,
     "metadata": {},
     "output_type": "execute_result"
    }
   ],
   "source": [
    "d1"
   ]
  },
  {
   "cell_type": "code",
   "execution_count": 17,
   "metadata": {},
   "outputs": [
    {
     "data": {
      "text/plain": [
       "{'name': 'mmm',\n",
       " 'math': '4',\n",
       " 'english': '3',\n",
       " 'physics': '2',\n",
       " 'hobbies': ['ds', 'jhg', 'dsa']}"
      ]
     },
     "execution_count": 17,
     "metadata": {},
     "output_type": "execute_result"
    }
   ],
   "source": [
    "d1"
   ]
  },
  {
   "cell_type": "code",
   "execution_count": null,
   "metadata": {},
   "outputs": [],
   "source": []
  }
 ],
 "metadata": {
  "kernelspec": {
   "display_name": "Python 3",
   "language": "python",
   "name": "python3"
  },
  "language_info": {
   "codemirror_mode": {
    "name": "ipython",
    "version": 3
   },
   "file_extension": ".py",
   "mimetype": "text/x-python",
   "name": "python",
   "nbconvert_exporter": "python",
   "pygments_lexer": "ipython3",
   "version": "3.7.5"
  }
 },
 "nbformat": 4,
 "nbformat_minor": 2
}
