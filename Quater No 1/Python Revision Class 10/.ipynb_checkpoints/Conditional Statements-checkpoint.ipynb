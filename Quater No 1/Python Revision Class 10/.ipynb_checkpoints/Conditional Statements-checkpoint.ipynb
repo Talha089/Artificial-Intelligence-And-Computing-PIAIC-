{
 "cells": [
  {
   "cell_type": "code",
   "execution_count": 2,
   "metadata": {},
   "outputs": [
    {
     "name": "stdout",
     "output_type": "stream",
     "text": [
      "Enter Marks: 70\n"
     ]
    }
   ],
   "source": [
    "marks = input('Enter Marks: ')\n",
    "marks = int(marks)\n",
    "if marks >= 90:\n",
    "    grade = 'A'\n",
    "elif  80 <  marks < 90:\n",
    "    grade = 'B'\n",
    "elif 70 < marks < 80:\n",
    "    grade = 'C'\n",
    "elif 60 < marks < 70:\n",
    "    grade = 'D'\n",
    "elif marks <= 60:\n",
    "    grade = 'E'"
   ]
  },
  {
   "cell_type": "code",
   "execution_count": null,
   "metadata": {},
   "outputs": [],
   "source": [
    "day = input(\"Please Enter Day: \")\n",
    "time = input(\"Please Enter time: \")\n",
    "rent = 0\n",
    "if time > '8'\n",
    "    rent = 1.59\n",
    "    if scrached === True:\n",
    "        rent += 1\n",
    "if day == 'Sunday':\n",
    "    rent *= 0.3\n",
    "    if scrached == True:\n",
    "        rent += 2\n",
    "elif day == 'Thursday':\n",
    "    rent *= 0.5"
   ]
  }
 ],
 "metadata": {
  "kernelspec": {
   "display_name": "Python 3",
   "language": "python",
   "name": "python3"
  },
  "language_info": {
   "codemirror_mode": {
    "name": "ipython",
    "version": 3
   },
   "file_extension": ".py",
   "mimetype": "text/x-python",
   "name": "python",
   "nbconvert_exporter": "python",
   "pygments_lexer": "ipython3",
   "version": "3.7.5"
  }
 },
 "nbformat": 4,
 "nbformat_minor": 2
}
