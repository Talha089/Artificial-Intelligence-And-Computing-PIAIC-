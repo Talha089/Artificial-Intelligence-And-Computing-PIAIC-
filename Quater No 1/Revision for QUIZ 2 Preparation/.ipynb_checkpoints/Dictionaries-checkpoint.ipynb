{
 "cells": [
  {
   "cell_type": "markdown",
   "metadata": {},
   "source": [
    "### a dictionary is a series of paired keys and values"
   ]
  },
  {
   "cell_type": "code",
   "execution_count": null,
   "metadata": {},
   "outputs": [],
   "source": [
    "customer_29876 = {\"first name\": \"David\",\n",
    "                  \"last name\": \"Elliott\",\n",
    "                  \"address\": \"4803 Wellesley St.\" }"
   ]
  },
  {
   "cell_type": "markdown",
   "metadata": {},
   "source": [
    "## Dictionaries: How to pick information out of them"
   ]
  },
  {
   "cell_type": "code",
   "execution_count": 2,
   "metadata": {},
   "outputs": [
    {
     "name": "stdout",
     "output_type": "stream",
     "text": [
      "4803 Wellesley St.\n"
     ]
    }
   ],
   "source": [
    "customer_29876 = {\"first name\": \"David\",\n",
    "                  \"last name\": \"Elliott\",\n",
    "                  \"address\": \"4803 Wellesley St.\"}\n",
    "address_of_customer = customer_29876[\"address\"]\n",
    "print(address_of_customer)"
   ]
  },
  {
   "cell_type": "markdown",
   "metadata": {},
   "source": [
    "#### A key doesn't have to be a string. Nor does a value. Let's talk about that next"
   ]
  },
  {
   "cell_type": "markdown",
   "metadata": {},
   "source": [
    "# 28 ::::  Dictionaries: The versatility of keys and values"
   ]
  },
  {
   "cell_type": "code",
   "execution_count": null,
   "metadata": {},
   "outputs": [],
   "source": [
    "# Keys don't have to be strings. They can be numbers:\n",
    "\n",
    "rankings = {5: \"Finland\",\n",
    "            2: \"Norway\",\n",
    "            3: \"Sweden\",\n",
    "            7: \"Iceland\"}"
   ]
  },
  {
   "cell_type": "code",
   "execution_count": 4,
   "metadata": {},
   "outputs": [],
   "source": [
    "# You can mix strings and numbers any way you want.\n",
    "\n",
    "things_to_remember = {0: \"the lowest number\",\n",
    "                      \"adozen\": 12, \n",
    "                      \"snake eyes\": \"a pair of ones\",\n",
    "                      13: \"abaker's dozen\"}"
   ]
  },
  {
   "cell_type": "markdown",
   "metadata": {},
   "source": [
    "# 29 ::: Dictionaries: Adding items"
   ]
  },
  {
   "cell_type": "code",
   "execution_count": 5,
   "metadata": {},
   "outputs": [],
   "source": [
    "# You can add a new pair by writing...\n",
    "customer_29876[\"city\"] = \"Toronto\""
   ]
  },
  {
   "cell_type": "code",
   "execution_count": 9,
   "metadata": {},
   "outputs": [
    {
     "data": {
      "text/plain": [
       "'Toronto'"
      ]
     },
     "execution_count": 9,
     "metadata": {},
     "output_type": "execute_result"
    }
   ],
   "source": [
    "customer_29876[\"address\"]\n",
    "customer_29876[\"city\"]"
   ]
  },
  {
   "cell_type": "markdown",
   "metadata": {},
   "source": [
    "## 30 ::: Dictionaries: Removing and changing items"
   ]
  },
  {
   "cell_type": "code",
   "execution_count": 10,
   "metadata": {},
   "outputs": [],
   "source": [
    "del things_to_remember[0]"
   ]
  },
  {
   "cell_type": "code",
   "execution_count": 11,
   "metadata": {},
   "outputs": [
    {
     "data": {
      "text/plain": [
       "{'adozen': 12, 'snake eyes': 'a pair of ones', 13: \"abaker's dozen\"}"
      ]
     },
     "execution_count": 11,
     "metadata": {},
     "output_type": "execute_result"
    }
   ],
   "source": [
    "things_to_remember"
   ]
  },
  {
   "cell_type": "markdown",
   "metadata": {},
   "source": [
    "## 31 ::::  Dictionaries: Looping through values"
   ]
  },
  {
   "cell_type": "code",
   "execution_count": 15,
   "metadata": {},
   "outputs": [
    {
     "name": "stdout",
     "output_type": "stream",
     "text": [
      "adozen\n",
      "snake eyes\n",
      "13\n"
     ]
    }
   ],
   "source": [
    "#looping through keys\n",
    "\n",
    "for a_thing_to_remember in things_to_remember:\n",
    "    print(a_thing_to_remember)"
   ]
  },
  {
   "cell_type": "code",
   "execution_count": 17,
   "metadata": {},
   "outputs": [
    {
     "name": "stdout",
     "output_type": "stream",
     "text": [
      "12\n",
      "a pair of ones\n",
      "abaker's dozen\n"
     ]
    }
   ],
   "source": [
    "# Looping through values\n",
    "\n",
    "for a_thing_to_remember in things_to_remember.values():\n",
    "    print(a_thing_to_remember)"
   ]
  },
  {
   "cell_type": "markdown",
   "metadata": {},
   "source": [
    "## 32 :::: Dictionaries: Looping through keys"
   ]
  },
  {
   "cell_type": "code",
   "execution_count": 18,
   "metadata": {},
   "outputs": [
    {
     "name": "stdout",
     "output_type": "stream",
     "text": [
      "adozen\n",
      "snake eyes\n",
      "13\n"
     ]
    }
   ],
   "source": [
    "# Looping through keys\n",
    "\n",
    "for a_thing_to_remember in things_to_remember.keys():\n",
    "    print(a_thing_to_remember)"
   ]
  },
  {
   "cell_type": "markdown",
   "metadata": {},
   "source": [
    "## 33 :::: Dictionaries: Looping through key-value pairs"
   ]
  },
  {
   "cell_type": "code",
   "execution_count": 20,
   "metadata": {},
   "outputs": [
    {
     "name": "stdout",
     "output_type": "stream",
     "text": [
      "The customer's first name is David\n",
      "The customer's last name is Elliott\n",
      "The customer's address is 4803 Wellesley St.\n"
     ]
    }
   ],
   "source": [
    "customer_29876 = {\"first name\": \"David\",\n",
    "                  \"last name\": \"Elliott\",\n",
    "                  \"address\": \"4803 Wellesley St.\"\n",
    "                 }\n",
    "\n",
    "\n",
    "for each_key, each_value in customer_29876.items():\n",
    "    print(\"The customer's \"+ each_key + \" is \" + each_value)"
   ]
  },
  {
   "cell_type": "markdown",
   "metadata": {},
   "source": [
    "## 34 :::: Creating a list of dictionaries"
   ]
  },
  {
   "cell_type": "code",
   "execution_count": 21,
   "metadata": {},
   "outputs": [],
   "source": [
    "customers = [\n",
    "    {\"customer id\": 0,\n",
    "     \"first name\":\"John\",\n",
    "     \"last name\": \"Ogden\",\n",
    "     \"address\": \"301 Arbor Rd.\",\n",
    "    },\n",
    "    {\n",
    "        \"customer id\": 1,\n",
    "        \"first name\":\"Ann\",\n",
    "        \"last name\": \"Sattermyer\",\n",
    "        \"address\": \"PO Box 1145\",\n",
    "    },\n",
    "    {\n",
    "        \"customer id\": 2,\n",
    "        \"first name\":\"Jill\",\n",
    "        \"last name\": \"Somers\",\n",
    "        \"address\": \"3 Main St.\"\n",
    "    }\n",
    " ]\n"
   ]
  },
  {
   "cell_type": "code",
   "execution_count": 25,
   "metadata": {},
   "outputs": [
    {
     "name": "stdout",
     "output_type": "stream",
     "text": [
      "{'customer id': 0, 'first name': 'John', 'last name': 'Ogden', 'address': '301 Arbor Rd.'}\n",
      "{'customer id': 1, 'first name': 'Ann', 'last name': 'Sattermyer', 'address': 'PO Box 1145'}\n",
      "{'customer id': 2, 'first name': 'Jill', 'last name': 'Somers', 'address': '3 Main St.'}\n"
     ]
    }
   ],
   "source": [
    "for customer in customers:\n",
    "    print(customer)"
   ]
  },
  {
   "cell_type": "markdown",
   "metadata": {},
   "source": [
    "## 35 :::: How to pick information out of a list of dictionaries"
   ]
  },
  {
   "cell_type": "code",
   "execution_count": 26,
   "metadata": {},
   "outputs": [],
   "source": [
    "# Let's say I want to know the address of a customer whose id is 1. This is\n",
    "# the code that finds it:"
   ]
  },
  {
   "cell_type": "code",
   "execution_count": 29,
   "metadata": {},
   "outputs": [
    {
     "name": "stdout",
     "output_type": "stream",
     "text": [
      "{'customer id': 1, 'first name': 'Ann', 'last name': 'Sattermyer', 'address': 'PO Box 1145'}\n",
      "PO Box 1145\n"
     ]
    }
   ],
   "source": [
    "dictionary_to_look_in = customers[1]\n",
    "customer_address = dictionary_to_look_in[\"address\"]\n",
    "print(dictionary_to_look_in)\n",
    "print(customer_address)"
   ]
  },
  {
   "cell_type": "markdown",
   "metadata": {},
   "source": [
    "## 36 :::: How to append a new dictionary to a list of dictionaries"
   ]
  },
  {
   "cell_type": "code",
   "execution_count": 31,
   "metadata": {},
   "outputs": [
    {
     "name": "stdout",
     "output_type": "stream",
     "text": [
      "3\n"
     ]
    }
   ],
   "source": [
    "new_customer_id = len(customers)\n",
    "print(new_customer_id)"
   ]
  },
  {
   "cell_type": "code",
   "execution_count": 32,
   "metadata": {},
   "outputs": [],
   "source": [
    "new_first_name = \"Talha\"\n",
    "new_last_name = \"Javaid\"\n",
    "new_address = \"Berlin,Germany\"\n",
    "\n",
    "new_dictionary = {\n",
    "\"customer id\": new_customer_id,\n",
    "\"first name\": new_first_name,\n",
    "\"last name\": new_last_name,\n",
    "\"address\": new_address,\n",
    "}"
   ]
  },
  {
   "cell_type": "code",
   "execution_count": 37,
   "metadata": {},
   "outputs": [
    {
     "name": "stdout",
     "output_type": "stream",
     "text": [
      "[{'customer id': 0, 'first name': 'John', 'last name': 'Ogden', 'address': '301 Arbor Rd.'}, {'customer id': 1, 'first name': 'Ann', 'last name': 'Sattermyer', 'address': 'PO Box 1145'}, {'customer id': 2, 'first name': 'Jill', 'last name': 'Somers', 'address': '3 Main St.'}, {'customer id': 3, 'first name': 'Talha', 'last name': 'Javaid', 'address': 'Berlin,Germany'}, {'customer id': 3, 'first name': 'Talha', 'last name': 'Javaid', 'address': 'Berlin,Germany'}, {'customer id': 3, 'first name': 'Talha', 'last name': 'Javaid', 'address': 'Berlin,Germany'}, {'customer id': 3, 'first name': 'Talha', 'last name': 'Javaid', 'address': 'Berlin,Germany'}, {'customer id': 3, 'first name': 'Talha', 'last name': 'Javaid', 'address': 'Berlin,Germany'}]\n"
     ]
    }
   ],
   "source": [
    "customers.append(new_dictionary)\n",
    "print(customers)"
   ]
  },
  {
   "cell_type": "code",
   "execution_count": 38,
   "metadata": {},
   "outputs": [
    {
     "data": {
      "text/plain": [
       "[{'customer id': 0,\n",
       "  'first name': 'John',\n",
       "  'last name': 'Ogden',\n",
       "  'address': '301 Arbor Rd.'},\n",
       " {'customer id': 1,\n",
       "  'first name': 'Ann',\n",
       "  'last name': 'Sattermyer',\n",
       "  'address': 'PO Box 1145'},\n",
       " {'customer id': 2,\n",
       "  'first name': 'Jill',\n",
       "  'last name': 'Somers',\n",
       "  'address': '3 Main St.'},\n",
       " {'customer id': 3,\n",
       "  'first name': 'Talha',\n",
       "  'last name': 'Javaid',\n",
       "  'address': 'Berlin,Germany'},\n",
       " {'customer id': 3,\n",
       "  'first name': 'Talha',\n",
       "  'last name': 'Javaid',\n",
       "  'address': 'Berlin,Germany'},\n",
       " {'customer id': 3,\n",
       "  'first name': 'Talha',\n",
       "  'last name': 'Javaid',\n",
       "  'address': 'Berlin,Germany'},\n",
       " {'customer id': 3,\n",
       "  'first name': 'Talha',\n",
       "  'last name': 'Javaid',\n",
       "  'address': 'Berlin,Germany'},\n",
       " {'customer id': 3,\n",
       "  'first name': 'Talha',\n",
       "  'last name': 'Javaid',\n",
       "  'address': 'Berlin,Germany'}]"
      ]
     },
     "execution_count": 38,
     "metadata": {},
     "output_type": "execute_result"
    }
   ],
   "source": [
    "customers"
   ]
  },
  {
   "cell_type": "markdown",
   "metadata": {},
   "source": [
    "## 37 :::: Creating a dictionary that contains lists"
   ]
  },
  {
   "cell_type": "code",
   "execution_count": null,
   "metadata": {},
   "outputs": [],
   "source": [
    "customer_29876 = {\n",
    "    \"first name\": \"David\",\n",
    "    \"last name\": \"Elliott\",\n",
    "    \"address\": \"4803 Wellesley St.\",\n",
    "    \"discounts\": [\"standard\", \"volume\", \"loyalty\", \"brother_in_law\"]\n",
    "}"
   ]
  },
  {
   "cell_type": "markdown",
   "metadata": {},
   "source": [
    "## 38 How to get information out of a list within a dictionary"
   ]
  },
  {
   "cell_type": "code",
   "execution_count": null,
   "metadata": {},
   "outputs": [],
   "source": [
    "if \"brother_in_law\" in customer_29876[\"discounts\"]:\n",
    "    discount_amount = .30\n",
    "elif \"loyality\" in customer_29876[\"discounts\"]:\n",
    "    discount_amount = .15\n",
    "elif \"volume\" in customer_29876[\"discounts\"]:\n",
    "    discount_amount = .10\n",
    "elif \"standard\" in customer_29876[\"discounts\"]:\n",
    "    discount_amount = .05"
   ]
  },
  {
   "cell_type": "markdown",
   "metadata": {},
   "source": [
    "## 39 :::: Creating a dictionary that contains a dictionary"
   ]
  },
  {
   "cell_type": "code",
   "execution_count": 40,
   "metadata": {},
   "outputs": [],
   "source": [
    "customers = {\n",
    "    0:{\n",
    "    \"first name\":\"John\",\n",
    "    \"last name\": \"Ogden\",\n",
    "    \"address\": \"301 Arbor Rd.\",\n",
    "    },\n",
    "    \n",
    "    1:{\n",
    "    \"first name\":\"Ann\",\n",
    "    \"last name\": \"Sattermyer\",\n",
    "    \"address\": \"PO Box 1145\",\n",
    "    },\n",
    "    \n",
    "    2:{\n",
    "    \"first name\":\"Jill\",\n",
    "    \"last name\": \"Somers\",\n",
    "    \"address\": \"3 Main St.\", },\n",
    "     }"
   ]
  },
  {
   "cell_type": "markdown",
   "metadata": {},
   "source": [
    "## 40 How to get information out of a dictionary within another dictionary"
   ]
  },
  {
   "cell_type": "code",
   "execution_count": 41,
   "metadata": {},
   "outputs": [
    {
     "name": "stdout",
     "output_type": "stream",
     "text": [
      "{'first name': 'Jill', 'last name': 'Somers', 'address': '3 Main St.'}\n"
     ]
    }
   ],
   "source": [
    "print(customers[2])"
   ]
  },
  {
   "cell_type": "code",
   "execution_count": 45,
   "metadata": {},
   "outputs": [
    {
     "name": "stdout",
     "output_type": "stream",
     "text": [
      "Ann\n"
     ]
    }
   ],
   "source": [
    "print(customers[1][\"first name\"])"
   ]
  },
  {
   "cell_type": "markdown",
   "metadata": {},
   "source": [
    "# Task1 # Store id, name and skill in dictionary with input function"
   ]
  },
  {
   "cell_type": "code",
   "execution_count": 49,
   "metadata": {},
   "outputs": [
    {
     "name": "stdout",
     "output_type": "stream",
     "text": [
      "Enter your ID34\n",
      "Enter Your NameTalha\n",
      "Enter your skill with',' seprated valuejava,python,kotlin\n"
     ]
    },
    {
     "data": {
      "text/plain": [
       "{'id': '34', 'name': 'Talha', 'skills': ['java,python,kotlin']}"
      ]
     },
     "execution_count": 49,
     "metadata": {},
     "output_type": "execute_result"
    }
   ],
   "source": [
    "information = {} # empty dictionary\n",
    "user_id = input(\"Enter your ID\")\n",
    "information['id'] = user_id\n",
    "\n",
    "name = input(\"Enter Your Name\")\n",
    "information['name'] = name\n",
    "\n",
    "\n",
    "skills = input(\"Enter your skill with',' seprated value\")\n",
    "information['skills']=skills.split()\n",
    "information"
   ]
  },
  {
   "cell_type": "code",
   "execution_count": 50,
   "metadata": {},
   "outputs": [
    {
     "name": "stdout",
     "output_type": "stream",
     "text": [
      "Enter your ID089\n",
      "Enter Your NameTalha\n",
      "Enter your skill with',' seprated valuejava,python,kotlin\n"
     ]
    },
    {
     "data": {
      "text/plain": [
       "{'id': '089',\n",
       " 'name': 'Talha',\n",
       " 'skills': ['Python', 'java', 'python', 'kotlin']}"
      ]
     },
     "execution_count": 50,
     "metadata": {},
     "output_type": "execute_result"
    }
   ],
   "source": [
    "information = {} # empty dictionary\n",
    "user_id = input(\"Enter your ID\")\n",
    "information['id'] = user_id\n",
    "\n",
    "name = input(\"Enter Your Name\")\n",
    "information['name'] = name\n",
    "\n",
    "information['skills']=[\"Python\"]\n",
    "\n",
    "\n",
    "skills = input(\"Enter your skill with',' seprated value\")\n",
    "information['skills']=information['skills']+skills.split(',')\n",
    "information"
   ]
  },
  {
   "cell_type": "code",
   "execution_count": 51,
   "metadata": {},
   "outputs": [
    {
     "name": "stdout",
     "output_type": "stream",
     "text": [
      "{'id': 5, 'name': 'Qasim', 'course': 'A.I', 'admission date': '2019-12-15', 'DOB': '01-01-2000'}\n"
     ]
    }
   ],
   "source": [
    "# dict[item1, item2, item3]\n",
    "#item = key:value\n",
    "\n",
    "d1 = {'id': 2,\n",
    "     'name':\"Qasim\",\n",
    "     'course':'A.I',\n",
    "      'id':5,\n",
    "     'admission date': '2019-12-15',\n",
    "     'DOB': '01-01-2000'}\n",
    "\n",
    "print(d1)\n",
    "?dict.copy"
   ]
  },
  {
   "cell_type": "code",
   "execution_count": 52,
   "metadata": {},
   "outputs": [
    {
     "name": "stdout",
     "output_type": "stream",
     "text": [
      "{'id': 5, 'name': 'Qasim', 'course': 'A.I', 'admission date': '2019-12-15', 'DOB': '01-01-2000'}\n",
      "{'id': 10, 'name': 'Qasim', 'course': 'A.I', 'admission date': '2019-12-15', 'DOB': '01-01-2000'}\n"
     ]
    }
   ],
   "source": [
    "d2 = d1.copy()\n",
    "d2[\"id\"] = 10\n",
    "print(d1)\n",
    "print(d2)"
   ]
  },
  {
   "cell_type": "code",
   "execution_count": 53,
   "metadata": {},
   "outputs": [
    {
     "name": "stdout",
     "output_type": "stream",
     "text": [
      "['id', 'name', 'course', 'timing', 'address', 'DOB']\n",
      "{'id': None, 'name': None, 'course': None, 'timing': None, 'address': None, 'DOB': None}\n"
     ]
    }
   ],
   "source": [
    "l1 = ['id','name','course','timing','address', 'DOB']\n",
    "print(l1)\n",
    "\n",
    "d1 = dict.fromkeys(l1)\n",
    "print(d1)"
   ]
  },
  {
   "cell_type": "code",
   "execution_count": 54,
   "metadata": {},
   "outputs": [
    {
     "name": "stdout",
     "output_type": "stream",
     "text": [
      "keysname,language,city\n",
      "valuesTalha,Python,Islamabad\n",
      "[('name', 'Talha'), ('language', 'Python'), ('city', 'Islamabad')]\n",
      "{'name': 'Talha', 'language': 'Python', 'city': 'Islamabad'}\n"
     ]
    }
   ],
   "source": [
    "# l1 = input(\"keys\")\n",
    "# l1 = l1.split(\",\")\n",
    "\n",
    "\n",
    "l1 = input(\"keys\").split(\",\")\n",
    "l2 = input(\"values\").split(\",\")\n",
    "\n",
    "#d1 = {a:x, b:y, c:z}\n",
    "l3 = list(zip(l1,l2))\n",
    "print(l3)\n",
    "d1 = dict(l3)\n",
    "print(d1)\n",
    "#dict([('a',\"x\"), ('b','y'), ('c','z')])"
   ]
  },
  {
   "cell_type": "code",
   "execution_count": 56,
   "metadata": {},
   "outputs": [
    {
     "name": "stdout",
     "output_type": "stream",
     "text": [
      "<zip object at 0x7efdbb4f1af0>\n"
     ]
    }
   ],
   "source": [
    "l4 = zip(l1,l2)\n",
    "print(l4)"
   ]
  },
  {
   "cell_type": "code",
   "execution_count": 60,
   "metadata": {},
   "outputs": [
    {
     "name": "stdout",
     "output_type": "stream",
     "text": [
      "{'name': 'Talha', 'language': 'Python', 'city': 'Islamabad'}\n",
      "None\n",
      "Value is not available\n",
      "Talha\n",
      "{'name': 'Talha', 'language': 'Python', 'city': 'Islamabad'}\n"
     ]
    }
   ],
   "source": [
    "print(d1)\n",
    "print(d1.get('h')) # if key available then extract it. error will not generate\n",
    "print(d1.get('i',\"Value is not available\"))\n",
    "print(d1.get(\"name\",0))\n",
    "print(d1)"
   ]
  },
  {
   "cell_type": "code",
   "execution_count": 61,
   "metadata": {},
   "outputs": [
    {
     "name": "stdout",
     "output_type": "stream",
     "text": [
      "{'name': 'Talha', 'language': 'Python', 'city': 'Islamabad'}\n"
     ]
    },
    {
     "data": {
      "text/plain": [
       "dict_items([('name', 'Talha'), ('language', 'Python'), ('city', 'Islamabad')])"
      ]
     },
     "execution_count": 61,
     "metadata": {},
     "output_type": "execute_result"
    }
   ],
   "source": [
    "print(d1)\n",
    "d1.items()"
   ]
  },
  {
   "cell_type": "code",
   "execution_count": 62,
   "metadata": {},
   "outputs": [
    {
     "name": "stdout",
     "output_type": "stream",
     "text": [
      "('c', 'z')\n",
      "{'a': 'x', 'b': 'y'}\n"
     ]
    }
   ],
   "source": [
    "d1 = {'a': 'x', 'b': 'y', 'c': 'z'}\n",
    "print(d1.popitem())\n",
    "print(d1)"
   ]
  },
  {
   "cell_type": "code",
   "execution_count": 63,
   "metadata": {},
   "outputs": [
    {
     "name": "stdout",
     "output_type": "stream",
     "text": [
      "{'a': 'x', 'b': 'y'}\n",
      "xyz\n",
      "{'a': 'x', 'b': 'y', 'abc1': 'xyz', 'abc': 'pakistan'}\n"
     ]
    }
   ],
   "source": [
    "print(d1)\n",
    "print(d1.setdefault('abc1','xyz'))\n",
    "d1['abc']='pakistan'\n",
    "print(d1)"
   ]
  },
  {
   "cell_type": "code",
   "execution_count": 64,
   "metadata": {},
   "outputs": [
    {
     "name": "stdout",
     "output_type": "stream",
     "text": [
      "{'a': 'x', 'b': 'y', 'c': 'z'}\n"
     ]
    }
   ],
   "source": [
    "d1 = {'a': 'x', 'b': 'y', 'c': 'z'}\n",
    "print(d1)"
   ]
  },
  {
   "cell_type": "code",
   "execution_count": 65,
   "metadata": {},
   "outputs": [
    {
     "data": {
      "text/plain": [
       "{'a': 'AAAA', 'b': 'BB', 'c': 'CCCC'}"
      ]
     },
     "execution_count": 65,
     "metadata": {},
     "output_type": "execute_result"
    }
   ],
   "source": [
    "d1 = {'a':'AA','b':'BB'}\n",
    "\n",
    "d2 = {'a':\"AAAA\", 'c':'CCCC'}\n",
    "\n",
    "d1.update(d2)\n",
    "d1"
   ]
  },
  {
   "cell_type": "code",
   "execution_count": 66,
   "metadata": {},
   "outputs": [
    {
     "name": "stdout",
     "output_type": "stream",
     "text": [
      "[6, 5, 4, 3, 2, 1]\n"
     ]
    }
   ],
   "source": [
    "d1 = {'a':1, 'b':2, 'c':3, 'd':5,'e':4,'f':6}\n",
    "d2 = d1.values()\n",
    "print(sorted(d2, reverse=True))"
   ]
  },
  {
   "cell_type": "code",
   "execution_count": 70,
   "metadata": {},
   "outputs": [
    {
     "data": {
      "text/plain": [
       "[('d', 4), ('b', 2), ('c', 3), ('a', 1)]"
      ]
     },
     "execution_count": 70,
     "metadata": {},
     "output_type": "execute_result"
    }
   ],
   "source": [
    "d1.clear()\n",
    "k=['d', 'b','c','a']\n",
    "v=[4,2,3,1]\n",
    "l1=zip(k,v)\n",
    "l1=list(l1)\n",
    "d1\n",
    "l1\n",
    "#for i in range(0,len(l1)):\n",
    "    #d1[k[i]]=v[i]\n",
    "#d1"
   ]
  },
  {
   "cell_type": "code",
   "execution_count": 72,
   "metadata": {},
   "outputs": [
    {
     "name": "stdout",
     "output_type": "stream",
     "text": [
      "{'c': 3}\n",
      "{'c': 3, 'b': 5}\n",
      "{'c': 3, 'b': 5, 'a': 1}\n"
     ]
    },
    {
     "data": {
      "text/plain": [
       "{'c': 3, 'b': 5, 'a': 1}"
      ]
     },
     "execution_count": 72,
     "metadata": {},
     "output_type": "execute_result"
    }
   ],
   "source": [
    "d1 = {'a':1, 'b': 5 , 'c':3 }\n",
    "list1 = list(d1.keys())\n",
    "slist = sorted(list1, reverse = True)\n",
    "nDict = {}\n",
    "for i in slist:\n",
    "    nDict[i] = d1[i]\n",
    "    print(nDict)\n",
    "nDict"
   ]
  },
  {
   "cell_type": "code",
   "execution_count": 73,
   "metadata": {},
   "outputs": [],
   "source": [
    "d1 = {'a':1, 'b': 5 , 'c':3 }"
   ]
  },
  {
   "cell_type": "code",
   "execution_count": 75,
   "metadata": {},
   "outputs": [
    {
     "data": {
      "text/plain": [
       "{'a': 1, 'b': 5, 'c': 3}"
      ]
     },
     "execution_count": 75,
     "metadata": {},
     "output_type": "execute_result"
    }
   ],
   "source": [
    "{k:v for k,v in sorted(d1.items(), key= lambda item: item[0])}"
   ]
  },
  {
   "cell_type": "code",
   "execution_count": 78,
   "metadata": {},
   "outputs": [
    {
     "name": "stdout",
     "output_type": "stream",
     "text": [
      "{'b': 5, 'c': 3, 'a': 1}\n"
     ]
    }
   ],
   "source": [
    "d1 = {'a':1, 'b': 5 , 'c':3 }\n",
    "d2 = {}\n",
    "for k, v in (sorted(d1.items(), key=lambda x:x[1], reverse=True)):\n",
    "    d2[k]=v\n",
    "print(d2)"
   ]
  },
  {
   "cell_type": "code",
   "execution_count": null,
   "metadata": {},
   "outputs": [],
   "source": []
  }
 ],
 "metadata": {
  "kernelspec": {
   "display_name": "Python 3",
   "language": "python",
   "name": "python3"
  },
  "language_info": {
   "codemirror_mode": {
    "name": "ipython",
    "version": 3
   },
   "file_extension": ".py",
   "mimetype": "text/x-python",
   "name": "python",
   "nbconvert_exporter": "python",
   "pygments_lexer": "ipython3",
   "version": "3.7.5"
  }
 },
 "nbformat": 4,
 "nbformat_minor": 2
}
