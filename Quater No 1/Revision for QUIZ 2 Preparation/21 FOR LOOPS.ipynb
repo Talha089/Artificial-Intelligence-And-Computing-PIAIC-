{
 "cells": [
  {
   "cell_type": "markdown",
   "metadata": {},
   "source": [
    "## LOOPS"
   ]
  },
  {
   "cell_type": "code",
   "execution_count": 4,
   "metadata": {},
   "outputs": [
    {
     "name": "stdout",
     "output_type": "stream",
     "text": [
      "It is one of the cleanest city\n"
     ]
    }
   ],
   "source": [
    "cleanest_cities = [\"Cheyenne\", \"Santa Fe\", \"Tucson\", \"Great Falls\", \"Honolulu\"]\n",
    "city_to_check = \"Tucson\"\n",
    "\n",
    "\n",
    "for a_clean_city in cleanest_cities:\n",
    "    if city_to_check == a_clean_city:\n",
    "        print(\"It is one of the cleanest city\")"
   ]
  },
  {
   "cell_type": "code",
   "execution_count": 5,
   "metadata": {},
   "outputs": [],
   "source": [
    "# if Python finds a match, there's no point in continuing the loop. So you stop the loop by adding a break statement:"
   ]
  },
  {
   "cell_type": "code",
   "execution_count": 6,
   "metadata": {},
   "outputs": [
    {
     "name": "stdout",
     "output_type": "stream",
     "text": [
      "It is one of the cleanest city\n"
     ]
    }
   ],
   "source": [
    "for a_clean_city in cleanest_cities:\n",
    "    if city_to_check == a_clean_city:\n",
    "        print(\"It is one of the cleanest city\")\n",
    "        break"
   ]
  },
  {
   "cell_type": "markdown",
   "metadata": {},
   "source": [
    "## 22  for loops nested"
   ]
  },
  {
   "cell_type": "code",
   "execution_count": 8,
   "metadata": {},
   "outputs": [
    {
     "name": "stdout",
     "output_type": "stream",
     "text": [
      "['BlueRay  Zzz', 'BlueRay  Burp', 'BlueRay  Dogbone', 'BlueRay  Droop', 'Upchuck  Zzz', 'Upchuck  Burp', 'Upchuck  Dogbone', 'Upchuck  Droop', 'Lojack  Zzz', 'Lojack  Burp', 'Lojack  Dogbone', 'Lojack  Droop', 'Gizmo  Zzz', 'Gizmo  Burp', 'Gizmo  Dogbone', 'Gizmo  Droop', 'Do-Rag  Zzz', 'Do-Rag  Burp', 'Do-Rag  Dogbone', 'Do-Rag  Droop']\n"
     ]
    }
   ],
   "source": [
    "first_names = [\"BlueRay \", \"Upchuck \", \"Lojack \", \"Gizmo \", \"Do-Rag \"]\n",
    "last_names = [\"Zzz\", \"Burp\", \"Dogbone\", \"Droop\"]\n",
    "full_names = []\n",
    "\n",
    "for a_first_name in first_names:\n",
    "    for a_last_name in last_names:\n",
    "        full_names.append(a_first_name + \" \" + a_last_name)\n",
    "print(full_names)"
   ]
  },
  {
   "cell_type": "markdown",
   "metadata": {},
   "source": [
    "## Some Other Examples "
   ]
  },
  {
   "cell_type": "code",
   "execution_count": 9,
   "metadata": {},
   "outputs": [
    {
     "name": "stdout",
     "output_type": "stream",
     "text": [
      "pakistan 1\n",
      "pakistan 2\n",
      "pakistan 3\n",
      "pakistan 4\n",
      "pakistan 5\n",
      "pakistan 6\n",
      "pakistan 7\n",
      "pakistan 8\n",
      "pakistan 9\n",
      "pakistan 10\n"
     ]
    }
   ],
   "source": [
    "for i in range(1,11):\n",
    "    print(\"pakistan\",i)"
   ]
  },
  {
   "cell_type": "code",
   "execution_count": 10,
   "metadata": {},
   "outputs": [
    {
     "data": {
      "text/plain": [
       "['pakistan1',\n",
       " 'pakistan2',\n",
       " 'pakistan3',\n",
       " 'pakistan4',\n",
       " 'pakistan5',\n",
       " 'pakistan6',\n",
       " 'pakistan7',\n",
       " 'pakistan8',\n",
       " 'pakistan9',\n",
       " 'pakistan10']"
      ]
     },
     "execution_count": 10,
     "metadata": {},
     "output_type": "execute_result"
    }
   ],
   "source": [
    "[\"pakistan\"+str(x) for x in range(1,11)]"
   ]
  },
  {
   "cell_type": "code",
   "execution_count": 11,
   "metadata": {},
   "outputs": [
    {
     "name": "stdout",
     "output_type": "stream",
     "text": [
      "2 X 1 = 2\n",
      "2 X 2 = 4\n",
      "2 X 3 = 6\n",
      "2 X 4 = 8\n",
      "2 X 5 = 10\n",
      "2 X 6 = 12\n",
      "2 X 7 = 14\n",
      "2 X 8 = 16\n",
      "2 X 9 = 18\n",
      "2 X 10 = 20\n"
     ]
    }
   ],
   "source": [
    "for i in range(1,11):\n",
    "    print(2, \"X\", i , \"=\", 2*i)"
   ]
  },
  {
   "cell_type": "code",
   "execution_count": 13,
   "metadata": {},
   "outputs": [
    {
     "data": {
      "text/plain": [
       "['2 X1 = 2',\n",
       " '2 X2 = 4',\n",
       " '2 X3 = 6',\n",
       " '2 X4 = 8',\n",
       " '2 X5 = 10',\n",
       " '2 X6 = 12',\n",
       " '2 X7 = 14',\n",
       " '2 X8 = 16',\n",
       " '2 X9 = 18',\n",
       " '2 X10 = 20']"
      ]
     },
     "execution_count": 13,
     "metadata": {},
     "output_type": "execute_result"
    }
   ],
   "source": [
    "[\"2 X\" + str(i) + \" = \"+ str(2*i) for i in range(1,11)]"
   ]
  },
  {
   "cell_type": "code",
   "execution_count": null,
   "metadata": {},
   "outputs": [],
   "source": [
    "take input from user \n",
    "if user enter 3\n",
    "\n",
    "then your output:\n",
    "    \n",
    "1 X 1 =    2 x 1 =     3 x 1 = \n",
    "1 X 2 =    2 x 2 =     3 x 2 = \n",
    "1 X 3 =    2 x 3 =     3 x 3 = \n",
    "1 X 4 =    2 x 4 =     3 x 4 = \n",
    "1 X 5 =    2 x 5 =     3 x 5 = \n",
    "1 X 6 =    2 x 6 =     3 x 6 = \n",
    "1 X 7 =    2 x 7 =     3 x 7 = \n",
    "1 X 8 =    2 x 8 =     3 x 8 = \n",
    "1 X 9 =    2 x 9 =     3 x 9 = \n",
    "1 X 10 =    2 x 10 =     3 x 10 ="
   ]
  },
  {
   "cell_type": "code",
   "execution_count": 19,
   "metadata": {},
   "outputs": [
    {
     "name": "stdout",
     "output_type": "stream",
     "text": [
      "Enter the number3\n",
      "1X1=1\t1X2=2\t1X3=3\t\n",
      "2X1=2\t2X2=4\t2X3=6\t\n",
      "3X1=3\t3X2=6\t3X3=9\t\n",
      "4X1=4\t4X2=8\t4X3=12\t\n",
      "5X1=5\t5X2=10\t5X3=15\t\n",
      "6X1=6\t6X2=12\t6X3=18\t\n",
      "7X1=7\t7X2=14\t7X3=21\t\n",
      "8X1=8\t8X2=16\t8X3=24\t\n",
      "9X1=9\t9X2=18\t9X3=27\t\n",
      "10X1=10\t10X2=20\t10X3=30\t\n"
     ]
    }
   ],
   "source": [
    "number = int(input(\"Enter the number\"))\n",
    "for i in range(1,11):\n",
    "    for j in range(1, number+1):\n",
    "        print(f'{i}X{j}={i*j}', end='\\t')\n",
    "    print()"
   ]
  },
  {
   "cell_type": "code",
   "execution_count": 20,
   "metadata": {},
   "outputs": [
    {
     "data": {
      "text/plain": [
       "True"
      ]
     },
     "execution_count": 20,
     "metadata": {},
     "output_type": "execute_result"
    }
   ],
   "source": [
    "chr(66) > chr(65)"
   ]
  },
  {
   "cell_type": "code",
   "execution_count": null,
   "metadata": {},
   "outputs": [],
   "source": []
  }
 ],
 "metadata": {
  "kernelspec": {
   "display_name": "Python 3",
   "language": "python",
   "name": "python3"
  },
  "language_info": {
   "codemirror_mode": {
    "name": "ipython",
    "version": 3
   },
   "file_extension": ".py",
   "mimetype": "text/x-python",
   "name": "python",
   "nbconvert_exporter": "python",
   "pygments_lexer": "ipython3",
   "version": "3.7.5"
  }
 },
 "nbformat": 4,
 "nbformat_minor": 2
}
