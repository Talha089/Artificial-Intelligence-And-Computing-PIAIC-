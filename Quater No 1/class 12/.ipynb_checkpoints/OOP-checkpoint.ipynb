{
 "cells": [
  {
   "cell_type": "markdown",
   "metadata": {},
   "source": [
    "# Topic\n",
    "## class\n",
    "## instance\n",
    "## method\n",
    "## Attributes/Properties\n",
    "## "
   ]
  },
  {
   "cell_type": "code",
   "execution_count": 20,
   "metadata": {},
   "outputs": [
    {
     "data": {
      "text/plain": [
       "3"
      ]
     },
     "execution_count": 20,
     "metadata": {},
     "output_type": "execute_result"
    }
   ],
   "source": [
    "class Student():  #class name\n",
    "    counter = 0  #class variable\n",
    "    def __init__(self,sid):\n",
    "        self.sid = sid    #Attributes/properties/field/DataMembers\n",
    "        self.name = \"\"\n",
    "        self.fname = \"\"\n",
    "        self.course = \"\"\n",
    "        self.fee = 0\n",
    "        self.user = \"\"\n",
    "        self.password = \"\"\n",
    "        Student.counter += 1\n",
    "    \n",
    "    def login(self,user,password):\n",
    "        print(\"welcome\", user, \"DD\")\n",
    "    \n",
    "    def logout(self):\n",
    "        pass\n",
    "    def quiz_attempt(self):\n",
    "        pass\n",
    "    \n",
    "    def attendance_mark(self):\n",
    "        pass\n",
    "    \n",
    "s1 = Student(1)\n",
    "s2 = Student(2)\n",
    "s3 = Student(100)\n",
    "\n",
    "s1.counter\n",
    "    "
   ]
  },
  {
   "cell_type": "code",
   "execution_count": 21,
   "metadata": {},
   "outputs": [
    {
     "name": "stdout",
     "output_type": "stream",
     "text": [
      "welcome Talha DD\n"
     ]
    }
   ],
   "source": [
    "s1.login(\"Talha\",\"123\")"
   ]
  },
  {
   "cell_type": "code",
   "execution_count": 22,
   "metadata": {},
   "outputs": [
    {
     "name": "stdout",
     "output_type": "stream",
     "text": [
      "abcd\n"
     ]
    }
   ],
   "source": [
    "s1.DOB = 'abcd'\n",
    "print(s1.DOB)"
   ]
  },
  {
   "cell_type": "code",
   "execution_count": 23,
   "metadata": {},
   "outputs": [],
   "source": [
    "del s1.DOB"
   ]
  },
  {
   "cell_type": "markdown",
   "metadata": {},
   "source": [
    "## Inheritance"
   ]
  },
  {
   "cell_type": "code",
   "execution_count": 24,
   "metadata": {},
   "outputs": [],
   "source": [
    "class Parent():\n",
    "    def __init__(self):\n",
    "        self.name = \"\"\n",
    "        self.fname = \"\"\n",
    "        \n",
    "    def speak(self, words=\"\"):\n",
    "        print(words,\" .... \")\n",
    "        \n",
    "    def eat(self, food = \"roti\"):\n",
    "        print(food)\n",
    "        \n",
    "class Child(Parent):\n",
    "    pass\n",
    "    \n"
   ]
  },
  {
   "cell_type": "markdown",
   "metadata": {},
   "source": [
    "# Polymorphism\n",
    "## Overloading"
   ]
  },
  {
   "cell_type": "code",
   "execution_count": null,
   "metadata": {},
   "outputs": [],
   "source": []
  }
 ],
 "metadata": {
  "kernelspec": {
   "display_name": "Python 3",
   "language": "python",
   "name": "python3"
  },
  "language_info": {
   "codemirror_mode": {
    "name": "ipython",
    "version": 3
   },
   "file_extension": ".py",
   "mimetype": "text/x-python",
   "name": "python",
   "nbconvert_exporter": "python",
   "pygments_lexer": "ipython3",
   "version": "3.7.5"
  }
 },
 "nbformat": 4,
 "nbformat_minor": 2
}
