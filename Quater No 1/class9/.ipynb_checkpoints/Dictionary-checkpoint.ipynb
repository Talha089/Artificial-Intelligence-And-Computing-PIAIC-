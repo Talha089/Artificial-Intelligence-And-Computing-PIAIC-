{
 "cells": [
  {
   "cell_type": "markdown",
   "metadata": {},
   "source": [
    "### List"
   ]
  },
  {
   "cell_type": "code",
   "execution_count": null,
   "metadata": {},
   "outputs": [],
   "source": [
    "l1 = [123, \"Talha\", \"A.I\"]"
   ]
  },
  {
   "cell_type": "code",
   "execution_count": 1,
   "metadata": {},
   "outputs": [
    {
     "data": {
      "text/plain": [
       "{'courses': 'AI', 'id': 7, 'name': 'Talha'}"
      ]
     },
     "execution_count": 1,
     "metadata": {},
     "output_type": "execute_result"
    }
   ],
   "source": [
    "d1 ={}\n",
    "d1['id'] = 007\n",
    "d1['name'] = 'Talha'\n",
    "d1['courses'] = 'AI'\n",
    "\n",
    "d1"
   ]
  },
  {
   "cell_type": "code",
   "execution_count": 9,
   "metadata": {},
   "outputs": [
    {
     "name": "stdout",
     "output_type": "stream",
     "text": [
      "Enter the languagesjava,python\n"
     ]
    },
    {
     "data": {
      "text/plain": [
       "{'languages': ['java', 'python']}"
      ]
     },
     "execution_count": 9,
     "metadata": {},
     "output_type": "execute_result"
    }
   ],
   "source": [
    "d2 = {}\n",
    "\n",
    "languages = raw_input(\"Enter the languages\")\n",
    "list1 = languages.split(\",\")\n",
    "\n",
    "d2['skills'] = list1\n",
    "d2"
   ]
  },
  {
   "cell_type": "code",
   "execution_count": null,
   "metadata": {},
   "outputs": [],
   "source": [
    "information['skills'] = 'Python'\n",
    "skills = input(\"Enter your skills with ',' separated values\")\n",
    "information['skills'] = ## leaving a bug because i didn't understood the problem statement"
   ]
  },
  {
   "cell_type": "code",
   "execution_count": 11,
   "metadata": {},
   "outputs": [
    {
     "name": "stdout",
     "output_type": "stream",
     "text": [
      "{'id': 9}\n"
     ]
    },
    {
     "ename": "NameError",
     "evalue": "name 'd3' is not defined",
     "output_type": "error",
     "traceback": [
      "\u001b[0;31m---------------------------------------------------------------------------\u001b[0m",
      "\u001b[0;31mNameError\u001b[0m                                 Traceback (most recent call last)",
      "\u001b[0;32m<ipython-input-11-ebb5e0961bf7>\u001b[0m in \u001b[0;36m<module>\u001b[0;34m()\u001b[0m\n\u001b[1;32m      3\u001b[0m \u001b[0;32mprint\u001b[0m \u001b[0md3\u001b[0m\u001b[0;34m\u001b[0m\u001b[0;34m\u001b[0m\u001b[0m\n\u001b[1;32m      4\u001b[0m \u001b[0;32mdel\u001b[0m \u001b[0md3\u001b[0m\u001b[0;34m\u001b[0m\u001b[0;34m\u001b[0m\u001b[0m\n\u001b[0;32m----> 5\u001b[0;31m \u001b[0;32mprint\u001b[0m \u001b[0md3\u001b[0m\u001b[0;34m\u001b[0m\u001b[0;34m\u001b[0m\u001b[0m\n\u001b[0m",
      "\u001b[0;31mNameError\u001b[0m: name 'd3' is not defined"
     ]
    }
   ],
   "source": [
    "d3 = {}\n",
    "d3['id'] = 9\n",
    "print d3\n",
    "del d3\n",
    "print d3\n"
   ]
  },
  {
   "cell_type": "markdown",
   "metadata": {},
   "source": [
    "### DEEP COPY SHALLOW COPY"
   ]
  },
  {
   "cell_type": "code",
   "execution_count": 19,
   "metadata": {},
   "outputs": [
    {
     "name": "stdout",
     "output_type": "stream",
     "text": [
      "<built-in method copy of dict object at 0x7f3ebc6dd4b0>\n"
     ]
    }
   ],
   "source": [
    "d1 = {\n",
    "    'id':2,\n",
    "    'name': 'Talha',\n",
    "    'course' : 'AI',\n",
    "    'id' : 5,\n",
    "    'admission_date' : '2019-12-15',\n",
    "}\n",
    "\n",
    "d2 = d1.copy\n",
    "print d2"
   ]
  },
  {
   "cell_type": "code",
   "execution_count": 21,
   "metadata": {},
   "outputs": [
    {
     "name": "stdout",
     "output_type": "stream",
     "text": [
      "['id', 'name', 'course', 'timing', 'address', 'DOB']\n",
      "{'name': None, 'DOB': None, 'course': None, 'address': None, 'timing': None, 'id': None}\n"
     ]
    }
   ],
   "source": [
    "l1 = ['id', 'name', 'course', 'timing', 'address' , 'DOB']\n",
    "print l1\n",
    "\n",
    "d1 = dict.fromkeys(l1)\n",
    "print d1 "
   ]
  },
  {
   "cell_type": "code",
   "execution_count": 23,
   "metadata": {},
   "outputs": [
    {
     "name": "stdout",
     "output_type": "stream",
     "text": [
      "Enter the languagesa,b,c,d\n",
      "{'a': 'NA', 'c': 'NA', 'b': 'NA', 'd': 'NA'}\n"
     ]
    }
   ],
   "source": [
    "d2 = {}\n",
    "\n",
    "languages = raw_input(\"Enter the languages\")\n",
    "l1 = languages.split(\",\")\n",
    "\n",
    "d1 = dict.fromkeys(l1, 'NA')\n",
    "print d1 "
   ]
  },
  {
   "cell_type": "code",
   "execution_count": 35,
   "metadata": {},
   "outputs": [
    {
     "name": "stdout",
     "output_type": "stream",
     "text": [
      "Enter the keysa,b,c\n",
      "Enter the valuesx,y,z\n",
      "{'a': 'x', 'c': 'z', 'b': 'y'}\n",
      "None\n"
     ]
    },
    {
     "data": {
      "text/plain": [
       "[('a', 'x'), ('c', 'z'), ('b', 'y')]"
      ]
     },
     "execution_count": 35,
     "metadata": {},
     "output_type": "execute_result"
    }
   ],
   "source": [
    "keys = raw_input(\"Enter the keys\")\n",
    "l1 = keys.split(\",\")\n",
    "\n",
    "keys = raw_input(\"Enter the values\")\n",
    "l2 = keys.split(\",\")\n",
    "\n",
    "l3 = list(zip(l1,l2))\n",
    "\n",
    "d1 = dict(l3)\n",
    "print d1\n",
    "\n",
    "print d1.get('h')\n",
    "\n",
    "#converting dictionaries into list of tuples\n",
    "d1.items()\n",
    "\n",
    "\n"
   ]
  },
  {
   "cell_type": "code",
   "execution_count": 36,
   "metadata": {},
   "outputs": [
    {
     "name": "stdout",
     "output_type": "stream",
     "text": [
      "{'a': 'x', 'c': 'z', 'b': 'y'}\n"
     ]
    },
    {
     "data": {
      "text/plain": [
       "'x'"
      ]
     },
     "execution_count": 36,
     "metadata": {},
     "output_type": "execute_result"
    }
   ],
   "source": [
    "print d1\n",
    "d1.pop('a') #returns the value"
   ]
  },
  {
   "cell_type": "code",
   "execution_count": 37,
   "metadata": {},
   "outputs": [
    {
     "data": {
      "text/plain": [
       "('a', 'x')"
      ]
     },
     "execution_count": 37,
     "metadata": {},
     "output_type": "execute_result"
    }
   ],
   "source": [
    "d1 = {'a':'x','b':'y','c':'x'}\n",
    "d1.popitem()"
   ]
  },
  {
   "cell_type": "code",
   "execution_count": 39,
   "metadata": {},
   "outputs": [
    {
     "name": "stdout",
     "output_type": "stream",
     "text": [
      "{'c': 'x', 'b': 'y', 'abc': 'xyz'}\n",
      "{'c': 'x', 'b': 'y', 'abc': 'xyz'}\n"
     ]
    }
   ],
   "source": [
    "print d1\n",
    "d1.setdefault('abc','xyz')\n",
    "\n",
    "print d1\n"
   ]
  },
  {
   "cell_type": "code",
   "execution_count": 40,
   "metadata": {},
   "outputs": [
    {
     "data": {
      "text/plain": [
       "{'a': 'AAAA', 'b': 'BB', 'c': 'CCCC'}"
      ]
     },
     "execution_count": 40,
     "metadata": {},
     "output_type": "execute_result"
    }
   ],
   "source": [
    "d1 =  {'a':'AA', 'b':'BB'}\n",
    "\n",
    "d2 = {'a':'AAAA','c':'CCCC'}\n",
    "\n",
    "d1.update(d2)\n",
    "d1"
   ]
  },
  {
   "cell_type": "code",
   "execution_count": 46,
   "metadata": {},
   "outputs": [
    {
     "name": "stdout",
     "output_type": "stream",
     "text": [
      "['a', 'b', 'c', 'd', 'e', 'f']\n"
     ]
    }
   ],
   "source": [
    "d1 =  {'a':1 , 'b':2 , 'c':3, 'd':3, 'e':4, 'f':5}\n",
    "print(sorted(d1,reverse=False))"
   ]
  },
  {
   "cell_type": "code",
   "execution_count": null,
   "metadata": {},
   "outputs": [],
   "source": [
    "k = ['a':1,'b':2,'c',3]\n",
    "list = list(d1.keys())\n",
    "slist = sorted(list1, reverse = True)\n",
    "nDict = {}\n",
    "for i in slist:\n",
    "    nDict[i] = d1[i]\n",
    "nDict\n",
    "\n",
    "\n",
    "l1 = zip(k,v)\n"
   ]
  },
  {
   "cell_type": "markdown",
   "metadata": {},
   "source": [
    "## Through Dict comprehension\n",
    "### sorting on the basis of values"
   ]
  },
  {
   "cell_type": "code",
   "execution_count": 47,
   "metadata": {},
   "outputs": [
    {
     "data": {
      "text/plain": [
       "{'a': 1, 'b': 2, 'c': 3, 'd': 3, 'e': 4, 'f': 5}"
      ]
     },
     "execution_count": 47,
     "metadata": {},
     "output_type": "execute_result"
    }
   ],
   "source": [
    "{k:v for k,v in sorted(d1.items(), key= lambda item: item[1])}"
   ]
  },
  {
   "cell_type": "code",
   "execution_count": 48,
   "metadata": {},
   "outputs": [
    {
     "data": {
      "text/plain": [
       "[('a', 1), ('c', 3), ('b', 2), ('e', 4), ('d', 3), ('f', 5)]"
      ]
     },
     "execution_count": 48,
     "metadata": {},
     "output_type": "execute_result"
    }
   ],
   "source": [
    "list(d1.items())"
   ]
  },
  {
   "cell_type": "markdown",
   "metadata": {},
   "source": [
    "## Task"
   ]
  },
  {
   "cell_type": "code",
   "execution_count": 53,
   "metadata": {},
   "outputs": [
    {
     "name": "stdout",
     "output_type": "stream",
     "text": [
      "please enter your id;  9\n",
      "please enter your name: dhgfg\n",
      "Please enter your skills: ujm hfgh iuiyu\n",
      "please enger xto exit:  x\n"
     ]
    },
    {
     "data": {
      "text/plain": [
       "[{'id': '9', 'name': 'dhgfg', 'skills': ['ujm', 'hfgh', 'iuiyu']}]"
      ]
     },
     "execution_count": 53,
     "metadata": {},
     "output_type": "execute_result"
    }
   ],
   "source": [
    "lst = []\n",
    "x = ''\n",
    "\n",
    "while x != 'x':\n",
    "    dict1={}\n",
    "    dict1['id'] = raw_input('please enter your id;  ')\n",
    "    dict1['name'] = raw_input('please enter your name: ')\n",
    "    skills  = raw_input(\"Please enter your skills: \")\n",
    "    dict1['skills'] = skills.split()\n",
    "    lst.append(dict1)\n",
    "    x=raw_input('please enger xto exit:  ')\n",
    "    \n",
    "lst"
   ]
  },
  {
   "cell_type": "code",
   "execution_count": null,
   "metadata": {},
   "outputs": [],
   "source": []
  }
 ],
 "metadata": {
  "kernelspec": {
   "display_name": "Python 2",
   "language": "python",
   "name": "python2"
  },
  "language_info": {
   "codemirror_mode": {
    "name": "ipython",
    "version": 2
   },
   "file_extension": ".py",
   "mimetype": "text/x-python",
   "name": "python",
   "nbconvert_exporter": "python",
   "pygments_lexer": "ipython2",
   "version": "2.7.15+"
  }
 },
 "nbformat": 4,
 "nbformat_minor": 2
}
