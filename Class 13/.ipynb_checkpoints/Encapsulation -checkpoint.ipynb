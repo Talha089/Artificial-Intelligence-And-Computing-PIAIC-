{
 "cells": [
  {
   "cell_type": "markdown",
   "metadata": {},
   "source": [
    "## Encapsulation"
   ]
  },
  {
   "cell_type": "code",
   "execution_count": null,
   "metadata": {},
   "outputs": [],
   "source": [
    "#Warning Method overloading + overriding + Encapsulation + abstraction needs to be reviewed after Capstone\n",
    "# Your attributes and methods are hide to access then we use getter and setter called encapsulation\n",
    "# Abstract class is which we can't make direct instance called abstract class \n",
    "# to handle abnormal behavior of anything called exception handling"
   ]
  },
  {
   "cell_type": "code",
   "execution_count": 10,
   "metadata": {},
   "outputs": [],
   "source": [
    "class A:\n",
    "    def __init__(self,name,age):\n",
    "        self.__sname = name\n",
    "        self.__age = age\n",
    "        \n",
    "    def display(self):\n",
    "        print(\"name\",self.__sname)\n",
    "        print(\"Age\",self.__age)\n",
    "        \n",
    "        \n",
    "    def change(self,a,b):\n",
    "        self.__sname = a\n",
    "        self.__age = b\n",
    "        \n",
    "    def __info(self):\n",
    "        print(\"hello\")\n",
    "    \n",
    "    def abc(self):\n",
    "        self.__info()\n",
    "        \n",
    "obj1 = A(\"Ali\",25)"
   ]
  },
  {
   "cell_type": "code",
   "execution_count": 7,
   "metadata": {},
   "outputs": [
    {
     "ename": "AttributeError",
     "evalue": "'A' object has no attribute 'sname'",
     "output_type": "error",
     "traceback": [
      "\u001b[0;31m---------------------------------------------------------------------------\u001b[0m",
      "\u001b[0;31mAttributeError\u001b[0m                            Traceback (most recent call last)",
      "\u001b[0;32m<ipython-input-7-63bb28389f86>\u001b[0m in \u001b[0;36m<module>\u001b[0;34m\u001b[0m\n\u001b[0;32m----> 1\u001b[0;31m \u001b[0mobj1\u001b[0m\u001b[0;34m.\u001b[0m\u001b[0msname\u001b[0m\u001b[0;34m\u001b[0m\u001b[0;34m\u001b[0m\u001b[0m\n\u001b[0m",
      "\u001b[0;31mAttributeError\u001b[0m: 'A' object has no attribute 'sname'"
     ]
    }
   ],
   "source": [
    "obj1.sname"
   ]
  },
  {
   "cell_type": "code",
   "execution_count": 11,
   "metadata": {},
   "outputs": [
    {
     "name": "stdout",
     "output_type": "stream",
     "text": [
      "name Ali\n",
      "Age 25\n"
     ]
    }
   ],
   "source": [
    "obj1.display()"
   ]
  },
  {
   "cell_type": "code",
   "execution_count": 12,
   "metadata": {},
   "outputs": [
    {
     "name": "stdout",
     "output_type": "stream",
     "text": [
      "hello\n"
     ]
    }
   ],
   "source": [
    "obj1.abc()"
   ]
  },
  {
   "cell_type": "markdown",
   "metadata": {},
   "source": [
    "# Abstract Class"
   ]
  },
  {
   "cell_type": "code",
   "execution_count": 13,
   "metadata": {},
   "outputs": [],
   "source": [
    "class A:\n",
    "   def __init__(self,a,b):\n",
    "    self.a = a\n",
    "    self.b = b\n",
    "    \n",
    "class B(A):\n",
    "    pass\n",
    "    \n",
    "    "
   ]
  },
  {
   "cell_type": "code",
   "execution_count": 14,
   "metadata": {},
   "outputs": [],
   "source": [
    "obj1 = A(2,5)"
   ]
  },
  {
   "cell_type": "code",
   "execution_count": 15,
   "metadata": {},
   "outputs": [
    {
     "name": "stdout",
     "output_type": "stream",
     "text": [
      "2\n"
     ]
    }
   ],
   "source": [
    "print(obj1.a)"
   ]
  },
  {
   "cell_type": "code",
   "execution_count": null,
   "metadata": {},
   "outputs": [],
   "source": [
    "from abc import ABC, abstractmethod \n",
    "#abc is a file\n",
    "#ABC is a class\n",
    "# abstract method is a function\n",
    "\n",
    "class Human(ABC):\n",
    "    @abstractmethod\n",
    "    def __init__(__self):\n",
    "        self.name = None\n",
    "        self.age = None\n",
    "        \n",
    "    def display(self,name,age):\n",
    "        self.name = name\n",
    "        self.age = age\n",
    "        return \"Object name is {} {} old\".format(self.name,self.age)\n",
    "    \n",
    "# class B(A):\n",
    "#     pass\n",
    "\n",
    "# obj1 = A(5,7)\n",
    "        \n",
    "p1 = Human()\n",
    "p1.display(\"Qasim\",25)"
   ]
  },
  {
   "cell_type": "code",
   "execution_count": null,
   "metadata": {},
   "outputs": [],
   "source": [
    "class Male(Human):\n",
    "    def __init__(self):\n",
    "        self.name = \"Qasim\"\n",
    "        self.fname = \"asim\"\n",
    "        \n",
    "    def laughter(self):\n",
    "        return \"HAHAHAHAHAHahahahaha\"\n",
    "p1=Male()"
   ]
  },
  {
   "cell_type": "code",
   "execution_count": null,
   "metadata": {},
   "outputs": [],
   "source": [
    "### EXAMPLES REVISION OF 4 PILLARS  \n",
    "# Inheritance\n",
    "# Polymorphism\n",
    "# Encapsulation\n",
    "# Abstraction"
   ]
  },
  {
   "cell_type": "code",
   "execution_count": 20,
   "metadata": {},
   "outputs": [
    {
     "name": "stdout",
     "output_type": "stream",
     "text": [
      "John Doe\n"
     ]
    }
   ],
   "source": [
    "# Inheritance\n",
    "# Create a class named Person, with firstname and lastname properties, and a printname method:\n",
    "\n",
    "class Person:\n",
    "  def __init__(self, fname, lname):\n",
    "    self.firstname = fname\n",
    "    self.lastname = lname\n",
    "\n",
    "  def printname(self):\n",
    "    print(self.firstname, self.lastname)\n",
    "\n",
    "#Use the Person class to create an object, and then execute the printname method:\n",
    "\n",
    "x = Person(\"John\", \"Doe\")\n",
    "x.printname()"
   ]
  },
  {
   "cell_type": "code",
   "execution_count": 30,
   "metadata": {},
   "outputs": [],
   "source": [
    "class Student(Person):\n",
    "    def room():\n",
    "        pass\n"
   ]
  },
  {
   "cell_type": "code",
   "execution_count": 31,
   "metadata": {},
   "outputs": [
    {
     "name": "stdout",
     "output_type": "stream",
     "text": [
      "Mike Olsen\n"
     ]
    }
   ],
   "source": [
    "x = Student(\"Mike\", \"Olsen\")\n",
    "x.printname()"
   ]
  },
  {
   "cell_type": "code",
   "execution_count": 23,
   "metadata": {},
   "outputs": [
    {
     "name": "stdout",
     "output_type": "stream",
     "text": [
      "New Delhi is the capital of India.\n",
      "Hindi the primary language of India.\n",
      "India is a developing country.\n",
      "Washington, D.C. is the capital of USA.\n",
      "English is the primary language of USA.\n",
      "USA is a developed country.\n"
     ]
    }
   ],
   "source": [
    "# Polymorphism with Class Methods\n",
    "\n",
    "class India(): \n",
    "    def capital(self): \n",
    "        print(\"New Delhi is the capital of India.\") \n",
    "  \n",
    "    def language(self): \n",
    "        print(\"Hindi the primary language of India.\") \n",
    "  \n",
    "    def type(self): \n",
    "        print(\"India is a developing country.\") \n",
    "  \n",
    "class USA(): \n",
    "    def capital(self): \n",
    "        print(\"Washington, D.C. is the capital of USA.\") \n",
    "  \n",
    "    def language(self): \n",
    "        print(\"English is the primary language of USA.\") \n",
    "  \n",
    "    def type(self): \n",
    "        print(\"USA is a developed country.\") \n",
    "  \n",
    "obj_ind = India() \n",
    "obj_usa = USA() \n",
    "for country in (obj_ind, obj_usa): \n",
    "    country.capital() \n",
    "    country.language() \n",
    "    country.type()"
   ]
  },
  {
   "cell_type": "code",
   "execution_count": 24,
   "metadata": {},
   "outputs": [],
   "source": [
    "# Polymorphism with Inheritance "
   ]
  },
  {
   "cell_type": "code",
   "execution_count": 25,
   "metadata": {},
   "outputs": [
    {
     "name": "stdout",
     "output_type": "stream",
     "text": [
      "There are many types of birds.\n",
      "Most of the birds can fly but some cannot.\n",
      "There are many types of birds.\n",
      "Sparrows can fly.\n",
      "There are many types of birds.\n",
      "Ostriches cannot fly.\n"
     ]
    }
   ],
   "source": [
    "class Bird: \n",
    "  def intro(self): \n",
    "    print(\"There are many types of birds.\") \n",
    "      \n",
    "  def flight(self): \n",
    "    print(\"Most of the birds can fly but some cannot.\") \n",
    "    \n",
    "class sparrow(Bird): \n",
    "  def flight(self): \n",
    "    print(\"Sparrows can fly.\") \n",
    "      \n",
    "class ostrich(Bird): \n",
    "  def flight(self): \n",
    "    print(\"Ostriches cannot fly.\") \n",
    "      \n",
    "obj_bird = Bird() \n",
    "obj_spr = sparrow() \n",
    "obj_ost = ostrich() \n",
    "  \n",
    "obj_bird.intro() \n",
    "obj_bird.flight() \n",
    "  \n",
    "obj_spr.intro() \n",
    "obj_spr.flight() \n",
    "  \n",
    "obj_ost.intro() \n",
    "obj_ost.flight() "
   ]
  },
  {
   "cell_type": "code",
   "execution_count": 27,
   "metadata": {},
   "outputs": [
    {
     "ename": "AttributeError",
     "evalue": "'Base' object has no attribute 'a'",
     "output_type": "error",
     "traceback": [
      "\u001b[0;31m---------------------------------------------------------------------------\u001b[0m",
      "\u001b[0;31mAttributeError\u001b[0m                            Traceback (most recent call last)",
      "\u001b[0;32m<ipython-input-27-bdeee114f307>\u001b[0m in \u001b[0;36m<module>\u001b[0;34m\u001b[0m\n\u001b[1;32m     25\u001b[0m \u001b[0;31m# Outside class will  result in\u001b[0m\u001b[0;34m\u001b[0m\u001b[0;34m\u001b[0m\u001b[0;34m\u001b[0m\u001b[0m\n\u001b[1;32m     26\u001b[0m \u001b[0;31m# AttributeError\u001b[0m\u001b[0;34m\u001b[0m\u001b[0;34m\u001b[0m\u001b[0;34m\u001b[0m\u001b[0m\n\u001b[0;32m---> 27\u001b[0;31m \u001b[0mprint\u001b[0m\u001b[0;34m(\u001b[0m\u001b[0mobj1\u001b[0m\u001b[0;34m.\u001b[0m\u001b[0ma\u001b[0m\u001b[0;34m)\u001b[0m\u001b[0;34m\u001b[0m\u001b[0;34m\u001b[0m\u001b[0m\n\u001b[0m\u001b[1;32m     28\u001b[0m \u001b[0;34m\u001b[0m\u001b[0m\n\u001b[1;32m     29\u001b[0m \u001b[0mobj2\u001b[0m \u001b[0;34m=\u001b[0m \u001b[0mDerived\u001b[0m\u001b[0;34m(\u001b[0m\u001b[0;34m)\u001b[0m\u001b[0;34m\u001b[0m\u001b[0;34m\u001b[0m\u001b[0m\n",
      "\u001b[0;31mAttributeError\u001b[0m: 'Base' object has no attribute 'a'"
     ]
    }
   ],
   "source": [
    "# Python program to \n",
    "# demonstrate protected members \n",
    "  \n",
    "  \n",
    "# Creating a base class \n",
    "class Base: \n",
    "    def __init__(self): \n",
    "          \n",
    "        # Protected member \n",
    "        self._a = 2\n",
    "  \n",
    "# Creating a derived class     \n",
    "class Derived(Base): \n",
    "    def __init__(self): \n",
    "          \n",
    "        # Calling constructor of \n",
    "        # Base class \n",
    "        Base.__init__(self)  \n",
    "        print(\"Calling protected member of base class: \") \n",
    "        print(self._a) \n",
    "          \n",
    "obj1 = Base() \n",
    "  \n",
    "# Calling protected member \n",
    "# Outside class will  result in  \n",
    "# AttributeError \n",
    "print(obj1.a) \n",
    "  \n",
    "obj2 = Derived() "
   ]
  },
  {
   "cell_type": "code",
   "execution_count": 28,
   "metadata": {},
   "outputs": [
    {
     "name": "stdout",
     "output_type": "stream",
     "text": [
      "I have 3 sides\n",
      "I have 4 sides\n",
      "I have 5 sides\n",
      "I have 6 sides\n"
     ]
    }
   ],
   "source": [
    "# Python program showing \n",
    "# abstract base class work \n",
    "  \n",
    "from abc import ABC, abstractmethod \n",
    "  \n",
    "class Polygon(ABC): \n",
    "  \n",
    "    # abstract method \n",
    "    def noofsides(self): \n",
    "        pass\n",
    "  \n",
    "class Triangle(Polygon): \n",
    "  \n",
    "    # overriding abstract method \n",
    "    def noofsides(self): \n",
    "        print(\"I have 3 sides\") \n",
    "  \n",
    "class Pentagon(Polygon): \n",
    "  \n",
    "    # overriding abstract method \n",
    "    def noofsides(self): \n",
    "        print(\"I have 5 sides\") \n",
    "  \n",
    "class Hexagon(Polygon): \n",
    "  \n",
    "    # overriding abstract method \n",
    "    def noofsides(self): \n",
    "        print(\"I have 6 sides\") \n",
    "  \n",
    "class Quadrilateral(Polygon): \n",
    "  \n",
    "    # overriding abstract method \n",
    "    def noofsides(self): \n",
    "        print(\"I have 4 sides\") \n",
    "  \n",
    "# Driver code \n",
    "R = Triangle() \n",
    "R.noofsides() \n",
    "  \n",
    "K = Quadrilateral() \n",
    "K.noofsides() \n",
    "  \n",
    "R = Pentagon() \n",
    "R.noofsides() \n",
    "  \n",
    "K = Hexagon() \n",
    "K.noofsides()"
   ]
  },
  {
   "cell_type": "code",
   "execution_count": 35,
   "metadata": {},
   "outputs": [],
   "source": [
    "class A:\n",
    "    def __init__(self,a,b):\n",
    "        self.a = a\n",
    "        self.b = b\n",
    "    def first():\n",
    "        pass\n",
    "class B(A):\n",
    "    def chalo():\n",
    "        pass\n",
    "a = B(\"a\",\"b\")"
   ]
  },
  {
   "cell_type": "code",
   "execution_count": 37,
   "metadata": {},
   "outputs": [
    {
     "name": "stdout",
     "output_type": "stream",
     "text": [
      "1\n",
      "10\n"
     ]
    }
   ],
   "source": [
    "#Overloading RECAP\n",
    "class A():\n",
    "    \n",
    "    def abc(self,*n):\n",
    "        print(sum(n))\n",
    "\n",
    "obj1 = A()\n",
    "obj1.abc(1)\n",
    "obj1.abc(1,3,2,4)"
   ]
  },
  {
   "cell_type": "code",
   "execution_count": 38,
   "metadata": {},
   "outputs": [
    {
     "name": "stdout",
     "output_type": "stream",
     "text": [
      "Speak Function Class B\n"
     ]
    }
   ],
   "source": [
    "# Overriding Recap\n",
    "\n",
    "\n",
    "class A():\n",
    "    def speak(self):\n",
    "        print(\"Speak Function Class A\")\n",
    "        \n",
    "        \n",
    "class B(A):\n",
    "    def speak(self): # Over Riding\n",
    "        print(\"Speak Function Class B\")\n",
    "        \n",
    "obj1 = B()        \n",
    "obj1.speak()\n"
   ]
  },
  {
   "cell_type": "code",
   "execution_count": null,
   "metadata": {},
   "outputs": [],
   "source": []
  }
 ],
 "metadata": {
  "kernelspec": {
   "display_name": "Python 3",
   "language": "python",
   "name": "python3"
  },
  "language_info": {
   "codemirror_mode": {
    "name": "ipython",
    "version": 3
   },
   "file_extension": ".py",
   "mimetype": "text/x-python",
   "name": "python",
   "nbconvert_exporter": "python",
   "pygments_lexer": "ipython3",
   "version": "3.7.5"
  }
 },
 "nbformat": 4,
 "nbformat_minor": 2
}
