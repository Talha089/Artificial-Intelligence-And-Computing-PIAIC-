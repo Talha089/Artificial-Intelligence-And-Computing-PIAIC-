{
 "cells": [
  {
   "cell_type": "code",
   "execution_count": null,
   "metadata": {},
   "outputs": [],
   "source": [
    "# Functions:\n",
    "# Required Arguments\n",
    "# Optional Arguments\n",
    "# Return\n",
    "# Non Return\n",
    "# Default Arguments\n",
    "# positional Arguments\n",
    "#keyword arguments    x=10 , y='Assigning a value may be a keyword argument'\n",
    "# Arguments with list   (*) Single steric\n",
    "#Argument with Dictionary Dictionary ko unzip kernay se 2 chexein atin hein keys,values **Double steric\n",
    "# pre-defined functions\n",
    "#User ordered functions"
   ]
  },
  {
   "cell_type": "markdown",
   "metadata": {},
   "source": [
    "## PRE defined functions"
   ]
  },
  {
   "cell_type": "code",
   "execution_count": 2,
   "metadata": {},
   "outputs": [
    {
     "name": "stdout",
     "output_type": "stream",
     "text": [
      "abc\n",
      "23\n",
      "<class 'int'>\n",
      "140537676024624\n"
     ]
    }
   ],
   "source": [
    "print(\"abc\")\n",
    "print(len('Artificial Intelligence'))\n",
    "print(type(99))\n",
    "print(id('a'))"
   ]
  },
  {
   "cell_type": "markdown",
   "metadata": {},
   "source": [
    "# User Defined functions"
   ]
  },
  {
   "cell_type": "code",
   "execution_count": 3,
   "metadata": {},
   "outputs": [
    {
     "name": "stdout",
     "output_type": "stream",
     "text": [
      "Pakistan Zindabad\n",
      "We  are pakistan\n",
      "We love our country\n"
     ]
    }
   ],
   "source": [
    "print(\"Pakistan Zindabad\")\n",
    "print(\"We  are pakistan\")\n",
    "print(\"We love our country\")"
   ]
  },
  {
   "cell_type": "code",
   "execution_count": 4,
   "metadata": {},
   "outputs": [
    {
     "name": "stdout",
     "output_type": "stream",
     "text": [
      "Pakistan Zindabad\n"
     ]
    }
   ],
   "source": [
    "def abc():    # Function declaration\n",
    "    print(\"Pakistan Zindabad\")\n",
    "abc()  #  Default function"
   ]
  },
  {
   "cell_type": "markdown",
   "metadata": {},
   "source": [
    "# Required Arguments"
   ]
  },
  {
   "cell_type": "code",
   "execution_count": 7,
   "metadata": {},
   "outputs": [
    {
     "name": "stdout",
     "output_type": "stream",
     "text": [
      "\n",
      "    PIAIC Islamabad\n",
      "    id : 1\n",
      "    Name : Talha\n",
      "    Father's Name: Javaid\n",
      "    Course: A.I\n",
      "    Timings: 9 to 12\n",
      "    \n"
     ]
    }
   ],
   "source": [
    "def id_card(sid, sname, fname, course, timing):\n",
    "    text = \"\"\"\n",
    "    PIAIC Islamabad\n",
    "    id : {}\n",
    "    Name : {}\n",
    "    Father's Name: {}\n",
    "    Course: {}\n",
    "    Timings: {}\n",
    "    \"\"\".format(sid,sname,fname,course,timing)\n",
    "    print(text)\n",
    "    \n",
    "id_card(1,\"Talha\", \"Javaid\", \"A.I\", \"9 to 12\")"
   ]
  },
  {
   "cell_type": "code",
   "execution_count": 8,
   "metadata": {},
   "outputs": [],
   "source": [
    "data = [\n",
    "        [1,\"qasim\",\"aslam\",\"A.I\",\" 9 to 12\"],\n",
    "        [2,\"qasim\",\"aslam\",\"A.I\",\" 9 to 12\"],\n",
    "        [3,\"qasim\",\"aslam\",\"A.I\",\" 9 to 12\"],]"
   ]
  },
  {
   "cell_type": "code",
   "execution_count": 9,
   "metadata": {},
   "outputs": [
    {
     "name": "stdout",
     "output_type": "stream",
     "text": [
      "1 qasim aslam A.I  9 to 12\n",
      "2 qasim aslam A.I  9 to 12\n",
      "3 qasim aslam A.I  9 to 12\n"
     ]
    }
   ],
   "source": [
    "for value in data:\n",
    "    print(*value)"
   ]
  },
  {
   "cell_type": "markdown",
   "metadata": {},
   "source": [
    "# Optional Arguments"
   ]
  },
  {
   "cell_type": "code",
   "execution_count": 17,
   "metadata": {},
   "outputs": [
    {
     "name": "stdout",
     "output_type": "stream",
     "text": [
      "5 0 0\n",
      "5\n"
     ]
    }
   ],
   "source": [
    "def abcd(x, y=0, z=0):\n",
    "    print(x,y,z)\n",
    "    print(x+y+z)\n",
    "abcd(5)"
   ]
  },
  {
   "cell_type": "markdown",
   "metadata": {},
   "source": [
    "# NON Return Function"
   ]
  },
  {
   "cell_type": "code",
   "execution_count": 18,
   "metadata": {},
   "outputs": [
    {
     "name": "stdout",
     "output_type": "stream",
     "text": [
      "pakistan\n",
      "None\n"
     ]
    }
   ],
   "source": [
    "abc = print(\"pakistan\")\n",
    "print(abc)"
   ]
  },
  {
   "cell_type": "code",
   "execution_count": 19,
   "metadata": {},
   "outputs": [
    {
     "name": "stdout",
     "output_type": "stream",
     "text": [
      "5 7 9\n",
      "21\n",
      "None\n"
     ]
    }
   ],
   "source": [
    "x = abcd(5,7,9)\n",
    "print(x)"
   ]
  },
  {
   "cell_type": "code",
   "execution_count": 20,
   "metadata": {},
   "outputs": [
    {
     "name": "stdout",
     "output_type": "stream",
     "text": [
      "(\"\\n    PIAIC Islamabad\\n    id : 1\\n    Name : A\\n    Father's Name: B\\n    Course: c\\n    Timings: D\\n    \", 'Qasim', 'Ali')\n"
     ]
    }
   ],
   "source": [
    "def id_card(sid, sname, fname, course, timing):\n",
    "    text = \"\"\"\n",
    "    PIAIC Islamabad\n",
    "    id : {}\n",
    "    Name : {}\n",
    "    Father's Name: {}\n",
    "    Course: {}\n",
    "    Timings: {}\n",
    "    \"\"\".format(sid,sname,fname,course,timing)\n",
    "    return text,\"Qasim\",\"Ali\" #return in tuple\n",
    "\n",
    "print(id_card(1,\"A\",\"B\",\"c\",\"D\"))\n",
    "    "
   ]
  },
  {
   "cell_type": "code",
   "execution_count": 27,
   "metadata": {},
   "outputs": [
    {
     "name": "stdout",
     "output_type": "stream",
     "text": [
      "\n",
      "    PIAIC Islamabad\n",
      "    id: 1\n",
      "    Name: A\n",
      "    father's Name: B\n",
      "    course: C\n",
      "    timing: D\n",
      "    \n"
     ]
    }
   ],
   "source": [
    "#multi reurn\n",
    "def id_card(sid, sname, fname, course, timing):#these are required arguments\n",
    "    text = \"\"\"\n",
    "    PIAIC Islamabad\n",
    "    id: {}\n",
    "    Name: {}\n",
    "    father's Name: {}\n",
    "    course: {}\n",
    "    timing: {}\n",
    "    \"\"\".format(sid,sname,fname,course,timing)\n",
    "    return text\n",
    "\n",
    "print(id_card(1,\"A\", \"B\", \"C\", \"D\"))"
   ]
  },
  {
   "cell_type": "code",
   "execution_count": 25,
   "metadata": {},
   "outputs": [
    {
     "data": {
      "text/plain": [
       "5"
      ]
     },
     "execution_count": 25,
     "metadata": {},
     "output_type": "execute_result"
    }
   ],
   "source": [
    "\n",
    "def abc(x=1,y=1,z=1):\n",
    "    return x*y*z\n",
    "\n",
    "abc(5)"
   ]
  },
  {
   "cell_type": "markdown",
   "metadata": {},
   "source": [
    "# Keyword Arguments"
   ]
  },
  {
   "cell_type": "code",
   "execution_count": 31,
   "metadata": {},
   "outputs": [
    {
     "name": "stdout",
     "output_type": "stream",
     "text": [
      "\n",
      "    PIAIC Islamabad\n",
      "    id: 5000\n",
      "    Name: Qasim\n",
      "    father's Name: Aslam\n",
      "    course: AI\n",
      "    timing: 9 to 12\n",
      "    \n"
     ]
    }
   ],
   "source": [
    "#multi reurn\n",
    "def id_card(sid, sname, fname, course, timing):#these are required arguments\n",
    "    text = \"\"\"\n",
    "    PIAIC Islamabad\n",
    "    id: {}\n",
    "    Name: {}\n",
    "    father's Name: {}\n",
    "    course: {}\n",
    "    timing: {}\n",
    "    \"\"\".format(sid,sname,fname,course,timing)\n",
    "    return text\n",
    "print(id_card(sname=\"Qasim\",fname=\"Aslam\",sid=5000, course=\"AI\",timing=\"9 to 12\"))"
   ]
  },
  {
   "cell_type": "markdown",
   "metadata": {},
   "source": [
    "# Argument with List"
   ]
  },
  {
   "cell_type": "code",
   "execution_count": 32,
   "metadata": {},
   "outputs": [],
   "source": [
    "def id_card(sid, sname, fname, course, timing):#these are required arguments\n",
    "    text = \"\"\"\n",
    "    PIAIC Islamabad\n",
    "    id: {}\n",
    "    Name: {}\n",
    "    father's Name: {}\n",
    "    course: {}\n",
    "    timing: {}\n",
    "    \"\"\".format(sid,sname,fname,course,timing)\n",
    "    return text\n"
   ]
  },
  {
   "cell_type": "code",
   "execution_count": 33,
   "metadata": {},
   "outputs": [
    {
     "name": "stdout",
     "output_type": "stream",
     "text": [
      "\n",
      "    PIAIC Islamabad\n",
      "    id: 1\n",
      "    Name: Qasim\n",
      "    father's Name: Aslam\n",
      "    course: A.I\n",
      "    timing: 9 tp 12\n",
      "    \n",
      "1 Qasim Aslam A.I 9 tp 12\n"
     ]
    }
   ],
   "source": [
    "l1 = [1,\"Qasim\",\"Aslam\",\"A.I\",\"9 tp 12\"]\n",
    "\n",
    "print(id_card(*l1))\n",
    "print((*l1))"
   ]
  },
  {
   "cell_type": "markdown",
   "metadata": {},
   "source": [
    "# Argument with Dictionary"
   ]
  },
  {
   "cell_type": "code",
   "execution_count": 34,
   "metadata": {},
   "outputs": [
    {
     "name": "stdout",
     "output_type": "stream",
     "text": [
      "\n",
      "    PIAIC Islamabad\n",
      "    id: 200\n",
      "    Name: M.Qasim\n",
      "    father's Name: Aslam\n",
      "    course: A.I\n",
      "    timing: ABC\n",
      "    \n"
     ]
    }
   ],
   "source": [
    "def id_card(sid, sname, fname, course, timing): #these are required arguments\n",
    "    text = \"\"\"\n",
    "    PIAIC Islamabad\n",
    "    id: {}\n",
    "    Name: {}\n",
    "    father's Name: {}\n",
    "    course: {}\n",
    "    timing: {}\n",
    "    \"\"\".format(sid,sname,fname,course,timing)\n",
    "    return text\n",
    "d1 = {\n",
    "    \"course\":\"A.I\",\n",
    "    \"sname\":\"M.Qasim\",\n",
    "    \"fname\":\"Aslam\",\n",
    "    \"sid\": 200,\n",
    "    \"timing\":\"ABC\"\n",
    "}\n",
    "\n",
    "print(id_card(**d1))"
   ]
  },
  {
   "cell_type": "markdown",
   "metadata": {},
   "source": [
    "# Recursive Functions"
   ]
  },
  {
   "cell_type": "code",
   "execution_count": 37,
   "metadata": {},
   "outputs": [
    {
     "data": {
      "text/plain": [
       "120"
      ]
     },
     "execution_count": 37,
     "metadata": {},
     "output_type": "execute_result"
    }
   ],
   "source": [
    "def abc(n):\n",
    "    if n==1:\n",
    "        return 1\n",
    "    return n * abc(n-1)\n",
    "abc(5)"
   ]
  },
  {
   "cell_type": "markdown",
   "metadata": {},
   "source": [
    "# Generator Functions"
   ]
  },
  {
   "cell_type": "code",
   "execution_count": 41,
   "metadata": {},
   "outputs": [
    {
     "name": "stdout",
     "output_type": "stream",
     "text": [
      "<generator object abc at 0x7fd17417fa50>\n",
      "0\n",
      "1\n",
      "2\n",
      "3\n",
      "4\n",
      "[5, 6, 7, 8, 9, 10]\n"
     ]
    }
   ],
   "source": [
    "def abc():\n",
    "    for i in range(11):\n",
    "        yield i\n",
    "a = abc()\n",
    "print(a)\n",
    "print(next(a))\n",
    "print(next(a))\n",
    "print(next(a))\n",
    "print(next(a))\n",
    "print(next(a))\n",
    "\n",
    "print(list(a))"
   ]
  },
  {
   "cell_type": "markdown",
   "metadata": {},
   "source": [
    "# Lambda Functions"
   ]
  },
  {
   "cell_type": "code",
   "execution_count": 42,
   "metadata": {},
   "outputs": [
    {
     "data": {
      "text/plain": [
       "13"
      ]
     },
     "execution_count": 42,
     "metadata": {},
     "output_type": "execute_result"
    }
   ],
   "source": [
    "def xyz(a,b):\n",
    "    return a + b\n",
    "xyz(5,8)"
   ]
  },
  {
   "cell_type": "code",
   "execution_count": 43,
   "metadata": {},
   "outputs": [],
   "source": [
    "xyz = lambda a,b: a+b"
   ]
  },
  {
   "cell_type": "code",
   "execution_count": 45,
   "metadata": {},
   "outputs": [],
   "source": [
    "xyz = lambda x,y: x if x>y else y"
   ]
  },
  {
   "cell_type": "code",
   "execution_count": null,
   "metadata": {},
   "outputs": [],
   "source": []
  }
 ],
 "metadata": {
  "kernelspec": {
   "display_name": "Python 3",
   "language": "python",
   "name": "python3"
  },
  "language_info": {
   "codemirror_mode": {
    "name": "ipython",
    "version": 3
   },
   "file_extension": ".py",
   "mimetype": "text/x-python",
   "name": "python",
   "nbconvert_exporter": "python",
   "pygments_lexer": "ipython3",
   "version": "3.7.5"
  }
 },
 "nbformat": 4,
 "nbformat_minor": 2
}
