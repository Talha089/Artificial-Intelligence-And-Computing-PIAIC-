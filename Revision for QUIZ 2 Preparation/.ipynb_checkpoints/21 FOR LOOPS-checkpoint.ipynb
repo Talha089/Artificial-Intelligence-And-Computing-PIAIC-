{
 "cells": [
  {
   "cell_type": "markdown",
   "metadata": {},
   "source": [
    "## LOOPS"
   ]
  },
  {
   "cell_type": "code",
   "execution_count": 4,
   "metadata": {},
   "outputs": [
    {
     "name": "stdout",
     "output_type": "stream",
     "text": [
      "It is one of the cleanest city\n"
     ]
    }
   ],
   "source": [
    "cleanest_cities = [\"Cheyenne\", \"Santa Fe\", \"Tucson\", \"Great Falls\", \"Honolulu\"]\n",
    "city_to_check = \"Tucson\"\n",
    "\n",
    "\n",
    "for a_clean_city in cleanest_cities:\n",
    "    if city_to_check == a_clean_city:\n",
    "        print(\"It is one of the cleanest city\")"
   ]
  },
  {
   "cell_type": "code",
   "execution_count": 5,
   "metadata": {},
   "outputs": [],
   "source": [
    "# if Python finds a match, there's no point in continuing the loop. So you stop the loop by adding a break statement:"
   ]
  },
  {
   "cell_type": "code",
   "execution_count": 6,
   "metadata": {},
   "outputs": [
    {
     "name": "stdout",
     "output_type": "stream",
     "text": [
      "It is one of the cleanest city\n"
     ]
    }
   ],
   "source": [
    "for a_clean_city in cleanest_cities:\n",
    "    if city_to_check == a_clean_city:\n",
    "        print(\"It is one of the cleanest city\")\n",
    "        break"
   ]
  },
  {
   "cell_type": "markdown",
   "metadata": {},
   "source": [
    "## 22  for loops nested"
   ]
  },
  {
   "cell_type": "code",
   "execution_count": 8,
   "metadata": {},
   "outputs": [
    {
     "name": "stdout",
     "output_type": "stream",
     "text": [
      "['BlueRay  Zzz', 'BlueRay  Burp', 'BlueRay  Dogbone', 'BlueRay  Droop', 'Upchuck  Zzz', 'Upchuck  Burp', 'Upchuck  Dogbone', 'Upchuck  Droop', 'Lojack  Zzz', 'Lojack  Burp', 'Lojack  Dogbone', 'Lojack  Droop', 'Gizmo  Zzz', 'Gizmo  Burp', 'Gizmo  Dogbone', 'Gizmo  Droop', 'Do-Rag  Zzz', 'Do-Rag  Burp', 'Do-Rag  Dogbone', 'Do-Rag  Droop']\n"
     ]
    }
   ],
   "source": [
    "first_names = [\"BlueRay \", \"Upchuck \", \"Lojack \", \"Gizmo \", \"Do-Rag \"]\n",
    "last_names = [\"Zzz\", \"Burp\", \"Dogbone\", \"Droop\"]\n",
    "full_names = []\n",
    "\n",
    "for a_first_name in first_names:\n",
    "    for a_last_name in last_names:\n",
    "        full_names.append(a_first_name + \" \" + a_last_name)\n",
    "print(full_names)"
   ]
  },
  {
   "cell_type": "markdown",
   "metadata": {},
   "source": [
    "## Some Other Examples "
   ]
  },
  {
   "cell_type": "code",
   "execution_count": 9,
   "metadata": {},
   "outputs": [
    {
     "name": "stdout",
     "output_type": "stream",
     "text": [
      "pakistan 1\n",
      "pakistan 2\n",
      "pakistan 3\n",
      "pakistan 4\n",
      "pakistan 5\n",
      "pakistan 6\n",
      "pakistan 7\n",
      "pakistan 8\n",
      "pakistan 9\n",
      "pakistan 10\n"
     ]
    }
   ],
   "source": [
    "for i in range(1,11):\n",
    "    print(\"pakistan\",i)"
   ]
  },
  {
   "cell_type": "code",
   "execution_count": 10,
   "metadata": {},
   "outputs": [
    {
     "data": {
      "text/plain": [
       "['pakistan1',\n",
       " 'pakistan2',\n",
       " 'pakistan3',\n",
       " 'pakistan4',\n",
       " 'pakistan5',\n",
       " 'pakistan6',\n",
       " 'pakistan7',\n",
       " 'pakistan8',\n",
       " 'pakistan9',\n",
       " 'pakistan10']"
      ]
     },
     "execution_count": 10,
     "metadata": {},
     "output_type": "execute_result"
    }
   ],
   "source": [
    "[\"pakistan\"+str(x) for x in range(1,11)]"
   ]
  },
  {
   "cell_type": "code",
   "execution_count": 11,
   "metadata": {},
   "outputs": [
    {
     "name": "stdout",
     "output_type": "stream",
     "text": [
      "2 X 1 = 2\n",
      "2 X 2 = 4\n",
      "2 X 3 = 6\n",
      "2 X 4 = 8\n",
      "2 X 5 = 10\n",
      "2 X 6 = 12\n",
      "2 X 7 = 14\n",
      "2 X 8 = 16\n",
      "2 X 9 = 18\n",
      "2 X 10 = 20\n"
     ]
    }
   ],
   "source": [
    "for i in range(1,11):\n",
    "    print(2, \"X\", i , \"=\", 2*i)"
   ]
  },
  {
   "cell_type": "code",
   "execution_count": 13,
   "metadata": {},
   "outputs": [
    {
     "data": {
      "text/plain": [
       "['2 X1 = 2',\n",
       " '2 X2 = 4',\n",
       " '2 X3 = 6',\n",
       " '2 X4 = 8',\n",
       " '2 X5 = 10',\n",
       " '2 X6 = 12',\n",
       " '2 X7 = 14',\n",
       " '2 X8 = 16',\n",
       " '2 X9 = 18',\n",
       " '2 X10 = 20']"
      ]
     },
     "execution_count": 13,
     "metadata": {},
     "output_type": "execute_result"
    }
   ],
   "source": [
    "[\"2 X\" + str(i) + \" = \"+ str(2*i) for i in range(1,11)]"
   ]
  },
  {
   "cell_type": "code",
   "execution_count": null,
   "metadata": {},
   "outputs": [],
   "source": []
  }
 ],
 "metadata": {
  "kernelspec": {
   "display_name": "Python 3",
   "language": "python",
   "name": "python3"
  },
  "language_info": {
   "codemirror_mode": {
    "name": "ipython",
    "version": 3
   },
   "file_extension": ".py",
   "mimetype": "text/x-python",
   "name": "python",
   "nbconvert_exporter": "python",
   "pygments_lexer": "ipython3",
   "version": "3.7.5"
  }
 },
 "nbformat": 4,
 "nbformat_minor": 2
}
