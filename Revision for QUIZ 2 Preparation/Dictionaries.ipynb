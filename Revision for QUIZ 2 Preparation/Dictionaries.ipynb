{
 "cells": [
  {
   "cell_type": "markdown",
   "metadata": {},
   "source": [
    "### a dictionary is a series of paired keys and values"
   ]
  },
  {
   "cell_type": "code",
   "execution_count": null,
   "metadata": {},
   "outputs": [],
   "source": [
    "customer_29876 = {\"first name\": \"David\",\n",
    "                  \"last name\": \"Elliott\",\n",
    "                  \"address\": \"4803 Wellesley St.\" }"
   ]
  },
  {
   "cell_type": "markdown",
   "metadata": {},
   "source": [
    "## Dictionaries: How to pick information out of them"
   ]
  },
  {
   "cell_type": "code",
   "execution_count": 2,
   "metadata": {},
   "outputs": [
    {
     "name": "stdout",
     "output_type": "stream",
     "text": [
      "4803 Wellesley St.\n"
     ]
    }
   ],
   "source": [
    "customer_29876 = {\"first name\": \"David\",\n",
    "                  \"last name\": \"Elliott\",\n",
    "                  \"address\": \"4803 Wellesley St.\"}\n",
    "address_of_customer = customer_29876[\"address\"]\n",
    "print(address_of_customer)"
   ]
  },
  {
   "cell_type": "markdown",
   "metadata": {},
   "source": [
    "#### A key doesn't have to be a string. Nor does a value. Let's talk about that next"
   ]
  },
  {
   "cell_type": "markdown",
   "metadata": {},
   "source": [
    "# 28 ::::  Dictionaries: The versatility of keys and values"
   ]
  },
  {
   "cell_type": "code",
   "execution_count": null,
   "metadata": {},
   "outputs": [],
   "source": [
    "# Keys don't have to be strings. They can be numbers:\n",
    "\n",
    "rankings = {5: \"Finland\",\n",
    "            2: \"Norway\",\n",
    "            3: \"Sweden\",\n",
    "            7: \"Iceland\"}"
   ]
  },
  {
   "cell_type": "code",
   "execution_count": 4,
   "metadata": {},
   "outputs": [],
   "source": [
    "# You can mix strings and numbers any way you want.\n",
    "\n",
    "things_to_remember = {0: \"the lowest number\",\n",
    "                      \"adozen\": 12, \n",
    "                      \"snake eyes\": \"a pair of ones\",\n",
    "                      13: \"abaker's dozen\"}"
   ]
  },
  {
   "cell_type": "markdown",
   "metadata": {},
   "source": [
    "# 29 ::: Dictionaries: Adding items"
   ]
  },
  {
   "cell_type": "code",
   "execution_count": 5,
   "metadata": {},
   "outputs": [],
   "source": [
    "# You can add a new pair by writing...\n",
    "customer_29876[\"city\"] = \"Toronto\""
   ]
  },
  {
   "cell_type": "code",
   "execution_count": 9,
   "metadata": {},
   "outputs": [
    {
     "data": {
      "text/plain": [
       "'Toronto'"
      ]
     },
     "execution_count": 9,
     "metadata": {},
     "output_type": "execute_result"
    }
   ],
   "source": [
    "customer_29876[\"address\"]\n",
    "customer_29876[\"city\"]"
   ]
  },
  {
   "cell_type": "markdown",
   "metadata": {},
   "source": [
    "## 30 ::: Dictionaries: Removing and changing items"
   ]
  },
  {
   "cell_type": "code",
   "execution_count": 10,
   "metadata": {},
   "outputs": [],
   "source": [
    "del things_to_remember[0]"
   ]
  },
  {
   "cell_type": "code",
   "execution_count": 11,
   "metadata": {},
   "outputs": [
    {
     "data": {
      "text/plain": [
       "{'adozen': 12, 'snake eyes': 'a pair of ones', 13: \"abaker's dozen\"}"
      ]
     },
     "execution_count": 11,
     "metadata": {},
     "output_type": "execute_result"
    }
   ],
   "source": [
    "things_to_remember"
   ]
  },
  {
   "cell_type": "markdown",
   "metadata": {},
   "source": [
    "## 31 ::::  Dictionaries: Looping through values"
   ]
  },
  {
   "cell_type": "code",
   "execution_count": 15,
   "metadata": {},
   "outputs": [
    {
     "name": "stdout",
     "output_type": "stream",
     "text": [
      "adozen\n",
      "snake eyes\n",
      "13\n"
     ]
    }
   ],
   "source": [
    "#looping through keys\n",
    "\n",
    "for a_thing_to_remember in things_to_remember:\n",
    "    print(a_thing_to_remember)"
   ]
  },
  {
   "cell_type": "code",
   "execution_count": 17,
   "metadata": {},
   "outputs": [
    {
     "name": "stdout",
     "output_type": "stream",
     "text": [
      "12\n",
      "a pair of ones\n",
      "abaker's dozen\n"
     ]
    }
   ],
   "source": [
    "# Looping through values\n",
    "\n",
    "for a_thing_to_remember in things_to_remember.values():\n",
    "    print(a_thing_to_remember)"
   ]
  },
  {
   "cell_type": "markdown",
   "metadata": {},
   "source": [
    "## 32 :::: Dictionaries: Looping through keys"
   ]
  },
  {
   "cell_type": "code",
   "execution_count": 18,
   "metadata": {},
   "outputs": [
    {
     "name": "stdout",
     "output_type": "stream",
     "text": [
      "adozen\n",
      "snake eyes\n",
      "13\n"
     ]
    }
   ],
   "source": [
    "# Looping through keys\n",
    "\n",
    "for a_thing_to_remember in things_to_remember.keys():\n",
    "    print(a_thing_to_remember)"
   ]
  },
  {
   "cell_type": "markdown",
   "metadata": {},
   "source": [
    "## 33 :::: Dictionaries: Looping through key-value pairs"
   ]
  },
  {
   "cell_type": "code",
   "execution_count": 20,
   "metadata": {},
   "outputs": [
    {
     "name": "stdout",
     "output_type": "stream",
     "text": [
      "The customer's first name is David\n",
      "The customer's last name is Elliott\n",
      "The customer's address is 4803 Wellesley St.\n"
     ]
    }
   ],
   "source": [
    "customer_29876 = {\"first name\": \"David\",\n",
    "                  \"last name\": \"Elliott\",\n",
    "                  \"address\": \"4803 Wellesley St.\"\n",
    "                 }\n",
    "\n",
    "\n",
    "for each_key, each_value in customer_29876.items():\n",
    "    print(\"The customer's \"+ each_key + \" is \" + each_value)"
   ]
  },
  {
   "cell_type": "markdown",
   "metadata": {},
   "source": [
    "## 34 :::: Creating a list of dictionaries"
   ]
  },
  {
   "cell_type": "code",
   "execution_count": 21,
   "metadata": {},
   "outputs": [],
   "source": [
    "customers = [\n",
    "    {\"customer id\": 0,\n",
    "     \"first name\":\"John\",\n",
    "     \"last name\": \"Ogden\",\n",
    "     \"address\": \"301 Arbor Rd.\",\n",
    "    },\n",
    "    {\n",
    "        \"customer id\": 1,\n",
    "        \"first name\":\"Ann\",\n",
    "        \"last name\": \"Sattermyer\",\n",
    "        \"address\": \"PO Box 1145\",\n",
    "    },\n",
    "    {\n",
    "        \"customer id\": 2,\n",
    "        \"first name\":\"Jill\",\n",
    "        \"last name\": \"Somers\",\n",
    "        \"address\": \"3 Main St.\"\n",
    "    }\n",
    " ]\n"
   ]
  },
  {
   "cell_type": "code",
   "execution_count": 25,
   "metadata": {},
   "outputs": [
    {
     "name": "stdout",
     "output_type": "stream",
     "text": [
      "{'customer id': 0, 'first name': 'John', 'last name': 'Ogden', 'address': '301 Arbor Rd.'}\n",
      "{'customer id': 1, 'first name': 'Ann', 'last name': 'Sattermyer', 'address': 'PO Box 1145'}\n",
      "{'customer id': 2, 'first name': 'Jill', 'last name': 'Somers', 'address': '3 Main St.'}\n"
     ]
    }
   ],
   "source": [
    "for customer in customers:\n",
    "    print(customer)"
   ]
  },
  {
   "cell_type": "markdown",
   "metadata": {},
   "source": [
    "## 35 :::: How to pick information out of a list of dictionaries"
   ]
  },
  {
   "cell_type": "code",
   "execution_count": 26,
   "metadata": {},
   "outputs": [],
   "source": [
    "# Let's say I want to know the address of a customer whose id is 1. This is\n",
    "# the code that finds it:"
   ]
  },
  {
   "cell_type": "code",
   "execution_count": 29,
   "metadata": {},
   "outputs": [
    {
     "name": "stdout",
     "output_type": "stream",
     "text": [
      "{'customer id': 1, 'first name': 'Ann', 'last name': 'Sattermyer', 'address': 'PO Box 1145'}\n",
      "PO Box 1145\n"
     ]
    }
   ],
   "source": [
    "dictionary_to_look_in = customers[1]\n",
    "customer_address = dictionary_to_look_in[\"address\"]\n",
    "print(dictionary_to_look_in)\n",
    "print(customer_address)"
   ]
  },
  {
   "cell_type": "markdown",
   "metadata": {},
   "source": [
    "## 36 :::: How to append a new dictionary to a list of dictionaries"
   ]
  },
  {
   "cell_type": "code",
   "execution_count": 31,
   "metadata": {},
   "outputs": [
    {
     "name": "stdout",
     "output_type": "stream",
     "text": [
      "3\n"
     ]
    }
   ],
   "source": [
    "new_customer_id = len(customers)\n",
    "print(new_customer_id)"
   ]
  },
  {
   "cell_type": "code",
   "execution_count": 32,
   "metadata": {},
   "outputs": [],
   "source": [
    "new_first_name = \"Talha\"\n",
    "new_last_name = \"Javaid\"\n",
    "new_address = \"Berlin,Germany\"\n",
    "\n",
    "new_dictionary = {\n",
    "\"customer id\": new_customer_id,\n",
    "\"first name\": new_first_name,\n",
    "\"last name\": new_last_name,\n",
    "\"address\": new_address,\n",
    "}"
   ]
  },
  {
   "cell_type": "code",
   "execution_count": 37,
   "metadata": {},
   "outputs": [
    {
     "name": "stdout",
     "output_type": "stream",
     "text": [
      "[{'customer id': 0, 'first name': 'John', 'last name': 'Ogden', 'address': '301 Arbor Rd.'}, {'customer id': 1, 'first name': 'Ann', 'last name': 'Sattermyer', 'address': 'PO Box 1145'}, {'customer id': 2, 'first name': 'Jill', 'last name': 'Somers', 'address': '3 Main St.'}, {'customer id': 3, 'first name': 'Talha', 'last name': 'Javaid', 'address': 'Berlin,Germany'}, {'customer id': 3, 'first name': 'Talha', 'last name': 'Javaid', 'address': 'Berlin,Germany'}, {'customer id': 3, 'first name': 'Talha', 'last name': 'Javaid', 'address': 'Berlin,Germany'}, {'customer id': 3, 'first name': 'Talha', 'last name': 'Javaid', 'address': 'Berlin,Germany'}, {'customer id': 3, 'first name': 'Talha', 'last name': 'Javaid', 'address': 'Berlin,Germany'}]\n"
     ]
    }
   ],
   "source": [
    "customers.append(new_dictionary)\n",
    "print(customers)"
   ]
  },
  {
   "cell_type": "code",
   "execution_count": 38,
   "metadata": {},
   "outputs": [
    {
     "data": {
      "text/plain": [
       "[{'customer id': 0,\n",
       "  'first name': 'John',\n",
       "  'last name': 'Ogden',\n",
       "  'address': '301 Arbor Rd.'},\n",
       " {'customer id': 1,\n",
       "  'first name': 'Ann',\n",
       "  'last name': 'Sattermyer',\n",
       "  'address': 'PO Box 1145'},\n",
       " {'customer id': 2,\n",
       "  'first name': 'Jill',\n",
       "  'last name': 'Somers',\n",
       "  'address': '3 Main St.'},\n",
       " {'customer id': 3,\n",
       "  'first name': 'Talha',\n",
       "  'last name': 'Javaid',\n",
       "  'address': 'Berlin,Germany'},\n",
       " {'customer id': 3,\n",
       "  'first name': 'Talha',\n",
       "  'last name': 'Javaid',\n",
       "  'address': 'Berlin,Germany'},\n",
       " {'customer id': 3,\n",
       "  'first name': 'Talha',\n",
       "  'last name': 'Javaid',\n",
       "  'address': 'Berlin,Germany'},\n",
       " {'customer id': 3,\n",
       "  'first name': 'Talha',\n",
       "  'last name': 'Javaid',\n",
       "  'address': 'Berlin,Germany'},\n",
       " {'customer id': 3,\n",
       "  'first name': 'Talha',\n",
       "  'last name': 'Javaid',\n",
       "  'address': 'Berlin,Germany'}]"
      ]
     },
     "execution_count": 38,
     "metadata": {},
     "output_type": "execute_result"
    }
   ],
   "source": [
    "customers"
   ]
  },
  {
   "cell_type": "markdown",
   "metadata": {},
   "source": [
    "## 37 :::: Creating a dictionary that contains lists"
   ]
  },
  {
   "cell_type": "code",
   "execution_count": null,
   "metadata": {},
   "outputs": [],
   "source": [
    "customer_29876 = {\n",
    "    \"first name\": \"David\",\n",
    "    \"last name\": \"Elliott\",\n",
    "    \"address\": \"4803 Wellesley St.\",\n",
    "    \"discounts\": [\"standard\", \"volume\", \"loyalty\", \"brother_in_law\"]\n",
    "}"
   ]
  },
  {
   "cell_type": "markdown",
   "metadata": {},
   "source": [
    "## 38 How to get information out of a list within a dictionary"
   ]
  },
  {
   "cell_type": "code",
   "execution_count": null,
   "metadata": {},
   "outputs": [],
   "source": [
    "if \"brother_in_law\" in customer_29876[\"discounts\"]:\n",
    "    discount_amount = .30\n",
    "elif \"loyality\" in customer_29876[\"discounts\"]:\n",
    "    discount_amount = .15\n",
    "elif \"volume\" in customer_29876[\"discounts\"]:\n",
    "    discount_amount = .10\n",
    "elif \"standard\" in customer_29876[\"discounts\"]:\n",
    "    discount_amount = .05"
   ]
  },
  {
   "cell_type": "markdown",
   "metadata": {},
   "source": [
    "## 39 :::: Creating a dictionary that contains a dictionary"
   ]
  },
  {
   "cell_type": "code",
   "execution_count": 40,
   "metadata": {},
   "outputs": [],
   "source": [
    "customers = {\n",
    "    0:{\n",
    "    \"first name\":\"John\",\n",
    "    \"last name\": \"Ogden\",\n",
    "    \"address\": \"301 Arbor Rd.\",\n",
    "    },\n",
    "    \n",
    "    1:{\n",
    "    \"first name\":\"Ann\",\n",
    "    \"last name\": \"Sattermyer\",\n",
    "    \"address\": \"PO Box 1145\",\n",
    "    },\n",
    "    \n",
    "    2:{\n",
    "    \"first name\":\"Jill\",\n",
    "    \"last name\": \"Somers\",\n",
    "    \"address\": \"3 Main St.\", },\n",
    "     }"
   ]
  },
  {
   "cell_type": "markdown",
   "metadata": {},
   "source": [
    "## 40 How to get information out of a dictionary within another dictionary"
   ]
  },
  {
   "cell_type": "code",
   "execution_count": 41,
   "metadata": {},
   "outputs": [
    {
     "name": "stdout",
     "output_type": "stream",
     "text": [
      "{'first name': 'Jill', 'last name': 'Somers', 'address': '3 Main St.'}\n"
     ]
    }
   ],
   "source": [
    "print(customers[2])"
   ]
  },
  {
   "cell_type": "code",
   "execution_count": 45,
   "metadata": {},
   "outputs": [
    {
     "name": "stdout",
     "output_type": "stream",
     "text": [
      "Ann\n"
     ]
    }
   ],
   "source": [
    "print(customers[1][\"first name\"])"
   ]
  },
  {
   "cell_type": "code",
   "execution_count": null,
   "metadata": {},
   "outputs": [],
   "source": []
  }
 ],
 "metadata": {
  "kernelspec": {
   "display_name": "Python 3",
   "language": "python",
   "name": "python3"
  },
  "language_info": {
   "codemirror_mode": {
    "name": "ipython",
    "version": 3
   },
   "file_extension": ".py",
   "mimetype": "text/x-python",
   "name": "python",
   "nbconvert_exporter": "python",
   "pygments_lexer": "ipython3",
   "version": "3.7.5"
  }
 },
 "nbformat": 4,
 "nbformat_minor": 2
}
